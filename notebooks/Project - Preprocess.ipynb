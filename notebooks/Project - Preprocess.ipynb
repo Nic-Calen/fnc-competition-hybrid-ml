{
 "cells": [
  {
   "cell_type": "code",
   "execution_count": 2,
   "metadata": {},
   "outputs": [],
   "source": [
    "import pandas as pd "
   ]
  },
  {
   "cell_type": "markdown",
   "metadata": {},
   "source": [
    "## Load & Target Creation:"
   ]
  },
  {
   "cell_type": "code",
   "execution_count": 6,
   "metadata": {},
   "outputs": [
    {
     "data": {
      "text/html": [
       "<div>\n",
       "<style scoped>\n",
       "    .dataframe tbody tr th:only-of-type {\n",
       "        vertical-align: middle;\n",
       "    }\n",
       "\n",
       "    .dataframe tbody tr th {\n",
       "        vertical-align: top;\n",
       "    }\n",
       "\n",
       "    .dataframe thead th {\n",
       "        text-align: right;\n",
       "    }\n",
       "</style>\n",
       "<table border=\"1\" class=\"dataframe\">\n",
       "  <thead>\n",
       "    <tr style=\"text-align: right;\">\n",
       "      <th></th>\n",
       "      <th>Headline</th>\n",
       "      <th>articleBody</th>\n",
       "      <th>target_stage1</th>\n",
       "      <th>target_stage2</th>\n",
       "    </tr>\n",
       "  </thead>\n",
       "  <tbody>\n",
       "    <tr>\n",
       "      <th>10762</th>\n",
       "      <td>ISIS Video Purports To Show Beheading Of Briti...</td>\n",
       "      <td>Update at 8:50 p.m. EDT\\n\\nThe militant group ...</td>\n",
       "      <td>related</td>\n",
       "      <td>discuss</td>\n",
       "    </tr>\n",
       "    <tr>\n",
       "      <th>6480</th>\n",
       "      <td>Vogue’s Shiny New Office Has a Big Rat Problem</td>\n",
       "      <td>(Nov. 26, 2014) – Your Thanksgiving turkey is ...</td>\n",
       "      <td>unrelated</td>\n",
       "      <td>None</td>\n",
       "    </tr>\n",
       "    <tr>\n",
       "      <th>3661</th>\n",
       "      <td>DHS Rebuffs Congressman’s Claim ISIS Infiltrat...</td>\n",
       "      <td>Last year, a Vine from President Obama’s trip ...</td>\n",
       "      <td>unrelated</td>\n",
       "      <td>None</td>\n",
       "    </tr>\n",
       "    <tr>\n",
       "      <th>21280</th>\n",
       "      <td>ISIS fighters seize weapons airdrop meant for ...</td>\n",
       "      <td>The United States Department of Defense said o...</td>\n",
       "      <td>related</td>\n",
       "      <td>discuss</td>\n",
       "    </tr>\n",
       "    <tr>\n",
       "      <th>11462</th>\n",
       "      <td>ISIS Claims It Kidnapped Gill Rosenberg, The F...</td>\n",
       "      <td>(KTVI)- An audio recording that allegedly capt...</td>\n",
       "      <td>unrelated</td>\n",
       "      <td>None</td>\n",
       "    </tr>\n",
       "    <tr>\n",
       "      <th>45971</th>\n",
       "      <td>Christian Bale quits Steve Jobs movie</td>\n",
       "      <td>Here at Consumerist HQ, we were both intrigued...</td>\n",
       "      <td>unrelated</td>\n",
       "      <td>None</td>\n",
       "    </tr>\n",
       "    <tr>\n",
       "      <th>12226</th>\n",
       "      <td>Apple’s next MacBook could be a 12-inch MacBoo...</td>\n",
       "      <td>The TV streaming services market may be on the...</td>\n",
       "      <td>unrelated</td>\n",
       "      <td>None</td>\n",
       "    </tr>\n",
       "    <tr>\n",
       "      <th>35992</th>\n",
       "      <td>Best Christmas present ever? Heartwarming mome...</td>\n",
       "      <td>At least not anytime soon\\n\\nThe internet has ...</td>\n",
       "      <td>unrelated</td>\n",
       "      <td>None</td>\n",
       "    </tr>\n",
       "    <tr>\n",
       "      <th>3200</th>\n",
       "      <td>Fidel Castro Rumors Sweep Internet, but No Sig...</td>\n",
       "      <td>Variety is reporting that Seth Rogen's got the...</td>\n",
       "      <td>unrelated</td>\n",
       "      <td>None</td>\n",
       "    </tr>\n",
       "    <tr>\n",
       "      <th>12881</th>\n",
       "      <td>Catholic Priest Claims God Is Female After Cli...</td>\n",
       "      <td>SYDNEY - An Australian man had a spider remove...</td>\n",
       "      <td>unrelated</td>\n",
       "      <td>None</td>\n",
       "    </tr>\n",
       "  </tbody>\n",
       "</table>\n",
       "</div>"
      ],
      "text/plain": [
       "                                                Headline  \\\n",
       "10762  ISIS Video Purports To Show Beheading Of Briti...   \n",
       "6480      Vogue’s Shiny New Office Has a Big Rat Problem   \n",
       "3661   DHS Rebuffs Congressman’s Claim ISIS Infiltrat...   \n",
       "21280  ISIS fighters seize weapons airdrop meant for ...   \n",
       "11462  ISIS Claims It Kidnapped Gill Rosenberg, The F...   \n",
       "45971              Christian Bale quits Steve Jobs movie   \n",
       "12226  Apple’s next MacBook could be a 12-inch MacBoo...   \n",
       "35992  Best Christmas present ever? Heartwarming mome...   \n",
       "3200   Fidel Castro Rumors Sweep Internet, but No Sig...   \n",
       "12881  Catholic Priest Claims God Is Female After Cli...   \n",
       "\n",
       "                                             articleBody target_stage1  \\\n",
       "10762  Update at 8:50 p.m. EDT\\n\\nThe militant group ...       related   \n",
       "6480   (Nov. 26, 2014) – Your Thanksgiving turkey is ...     unrelated   \n",
       "3661   Last year, a Vine from President Obama’s trip ...     unrelated   \n",
       "21280  The United States Department of Defense said o...       related   \n",
       "11462  (KTVI)- An audio recording that allegedly capt...     unrelated   \n",
       "45971  Here at Consumerist HQ, we were both intrigued...     unrelated   \n",
       "12226  The TV streaming services market may be on the...     unrelated   \n",
       "35992  At least not anytime soon\\n\\nThe internet has ...     unrelated   \n",
       "3200   Variety is reporting that Seth Rogen's got the...     unrelated   \n",
       "12881  SYDNEY - An Australian man had a spider remove...     unrelated   \n",
       "\n",
       "      target_stage2  \n",
       "10762       discuss  \n",
       "6480           None  \n",
       "3661           None  \n",
       "21280       discuss  \n",
       "11462          None  \n",
       "45971          None  \n",
       "12226          None  \n",
       "35992          None  \n",
       "3200           None  \n",
       "12881          None  "
      ]
     },
     "execution_count": 6,
     "metadata": {},
     "output_type": "execute_result"
    }
   ],
   "source": [
    "pth = '/Users/nicholascalen/fnc-1/'\n",
    "train_bodies = pd.read_csv(pth + 'train_bodies.csv').set_index('Body ID')\n",
    "train_headlines = pd.read_csv(pth + 'train_stances.csv').set_index('Body ID')\n",
    "train_all = train_headlines.join(train_bodies)\n",
    "train_all['target_stage1'] = ''\n",
    "train_all['target_stage2'] = train_all.Stance\n",
    "train_all.loc[train_all.Stance == 'unrelated', 'target_stage1'] = 'unrelated'\n",
    "train_all.loc[train_all.Stance != 'unrelated', 'target_stage1'] = 'related'\n",
    "train_all.loc[train_all.Stance == 'unrelated', 'target_stage2'] = None\n",
    "train_all.drop('Stance',inplace=True,axis=1)\n",
    "train_all.reset_index(inplace=True,drop=True)\n",
    "train_all.sample(10)"
   ]
  },
  {
   "cell_type": "markdown",
   "metadata": {},
   "source": [
    "#### Sample for preprocess refinement / testing: "
   ]
  },
  {
   "cell_type": "code",
   "execution_count": 264,
   "metadata": {},
   "outputs": [],
   "source": [
    "sample_train = train_all"
   ]
  },
  {
   "cell_type": "code",
   "execution_count": 265,
   "metadata": {},
   "outputs": [
    {
     "data": {
      "text/html": [
       "<div>\n",
       "<style scoped>\n",
       "    .dataframe tbody tr th:only-of-type {\n",
       "        vertical-align: middle;\n",
       "    }\n",
       "\n",
       "    .dataframe tbody tr th {\n",
       "        vertical-align: top;\n",
       "    }\n",
       "\n",
       "    .dataframe thead th {\n",
       "        text-align: right;\n",
       "    }\n",
       "</style>\n",
       "<table border=\"1\" class=\"dataframe\">\n",
       "  <thead>\n",
       "    <tr style=\"text-align: right;\">\n",
       "      <th></th>\n",
       "      <th>Headline</th>\n",
       "      <th>articleBody</th>\n",
       "      <th>target_stage1</th>\n",
       "      <th>target_stage2</th>\n",
       "    </tr>\n",
       "  </thead>\n",
       "  <tbody>\n",
       "    <tr>\n",
       "      <th>0</th>\n",
       "      <td>Soldier shot, Parliament locked down after gun...</td>\n",
       "      <td>A small meteorite crashed into a wooded area i...</td>\n",
       "      <td>unrelated</td>\n",
       "      <td>None</td>\n",
       "    </tr>\n",
       "    <tr>\n",
       "      <th>1</th>\n",
       "      <td>Tourist dubbed ‘Spider Man’ after spider burro...</td>\n",
       "      <td>A small meteorite crashed into a wooded area i...</td>\n",
       "      <td>unrelated</td>\n",
       "      <td>None</td>\n",
       "    </tr>\n",
       "    <tr>\n",
       "      <th>2</th>\n",
       "      <td>Luke Somers 'killed in failed rescue attempt i...</td>\n",
       "      <td>A small meteorite crashed into a wooded area i...</td>\n",
       "      <td>unrelated</td>\n",
       "      <td>None</td>\n",
       "    </tr>\n",
       "    <tr>\n",
       "      <th>3</th>\n",
       "      <td>BREAKING: Soldier shot at War Memorial in Ottawa</td>\n",
       "      <td>A small meteorite crashed into a wooded area i...</td>\n",
       "      <td>unrelated</td>\n",
       "      <td>None</td>\n",
       "    </tr>\n",
       "    <tr>\n",
       "      <th>4</th>\n",
       "      <td>Giant 8ft 9in catfish weighing 19 stone caught...</td>\n",
       "      <td>A small meteorite crashed into a wooded area i...</td>\n",
       "      <td>unrelated</td>\n",
       "      <td>None</td>\n",
       "    </tr>\n",
       "    <tr>\n",
       "      <th>...</th>\n",
       "      <td>...</td>\n",
       "      <td>...</td>\n",
       "      <td>...</td>\n",
       "      <td>...</td>\n",
       "    </tr>\n",
       "    <tr>\n",
       "      <th>49967</th>\n",
       "      <td>Pizza delivery man gets tipped more than $2,00...</td>\n",
       "      <td>ANN ARBOR, Mich. – A pizza delivery man in Mic...</td>\n",
       "      <td>related</td>\n",
       "      <td>agree</td>\n",
       "    </tr>\n",
       "    <tr>\n",
       "      <th>49968</th>\n",
       "      <td>Pizza delivery man gets $2,000 tip</td>\n",
       "      <td>ANN ARBOR, Mich. – A pizza delivery man in Mic...</td>\n",
       "      <td>related</td>\n",
       "      <td>agree</td>\n",
       "    </tr>\n",
       "    <tr>\n",
       "      <th>49969</th>\n",
       "      <td>Luckiest Pizza Delivery Guy Ever Gets $2,000 Tip</td>\n",
       "      <td>ANN ARBOR, Mich. – A pizza delivery man in Mic...</td>\n",
       "      <td>related</td>\n",
       "      <td>agree</td>\n",
       "    </tr>\n",
       "    <tr>\n",
       "      <th>49970</th>\n",
       "      <td>Ann Arbor pizza delivery driver surprised with...</td>\n",
       "      <td>ANN ARBOR, Mich. – A pizza delivery man in Mic...</td>\n",
       "      <td>related</td>\n",
       "      <td>agree</td>\n",
       "    </tr>\n",
       "    <tr>\n",
       "      <th>49971</th>\n",
       "      <td>Ann Arbor pizza delivery driver surprised with...</td>\n",
       "      <td>ANN ARBOR, Mich. – A pizza delivery man in Mic...</td>\n",
       "      <td>related</td>\n",
       "      <td>agree</td>\n",
       "    </tr>\n",
       "  </tbody>\n",
       "</table>\n",
       "<p>49972 rows × 4 columns</p>\n",
       "</div>"
      ],
      "text/plain": [
       "                                                Headline  \\\n",
       "0      Soldier shot, Parliament locked down after gun...   \n",
       "1      Tourist dubbed ‘Spider Man’ after spider burro...   \n",
       "2      Luke Somers 'killed in failed rescue attempt i...   \n",
       "3       BREAKING: Soldier shot at War Memorial in Ottawa   \n",
       "4      Giant 8ft 9in catfish weighing 19 stone caught...   \n",
       "...                                                  ...   \n",
       "49967  Pizza delivery man gets tipped more than $2,00...   \n",
       "49968                 Pizza delivery man gets $2,000 tip   \n",
       "49969   Luckiest Pizza Delivery Guy Ever Gets $2,000 Tip   \n",
       "49970  Ann Arbor pizza delivery driver surprised with...   \n",
       "49971  Ann Arbor pizza delivery driver surprised with...   \n",
       "\n",
       "                                             articleBody target_stage1  \\\n",
       "0      A small meteorite crashed into a wooded area i...     unrelated   \n",
       "1      A small meteorite crashed into a wooded area i...     unrelated   \n",
       "2      A small meteorite crashed into a wooded area i...     unrelated   \n",
       "3      A small meteorite crashed into a wooded area i...     unrelated   \n",
       "4      A small meteorite crashed into a wooded area i...     unrelated   \n",
       "...                                                  ...           ...   \n",
       "49967  ANN ARBOR, Mich. – A pizza delivery man in Mic...       related   \n",
       "49968  ANN ARBOR, Mich. – A pizza delivery man in Mic...       related   \n",
       "49969  ANN ARBOR, Mich. – A pizza delivery man in Mic...       related   \n",
       "49970  ANN ARBOR, Mich. – A pizza delivery man in Mic...       related   \n",
       "49971  ANN ARBOR, Mich. – A pizza delivery man in Mic...       related   \n",
       "\n",
       "      target_stage2  \n",
       "0              None  \n",
       "1              None  \n",
       "2              None  \n",
       "3              None  \n",
       "4              None  \n",
       "...             ...  \n",
       "49967         agree  \n",
       "49968         agree  \n",
       "49969         agree  \n",
       "49970         agree  \n",
       "49971         agree  \n",
       "\n",
       "[49972 rows x 4 columns]"
      ]
     },
     "execution_count": 265,
     "metadata": {},
     "output_type": "execute_result"
    }
   ],
   "source": [
    "sample_train"
   ]
  },
  {
   "cell_type": "markdown",
   "metadata": {},
   "source": [
    "## Text Data Cleaning:"
   ]
  },
  {
   "cell_type": "code",
   "execution_count": 266,
   "metadata": {},
   "outputs": [],
   "source": [
    "def clean_txt(txt):\n",
    "    # remove punctuation \n",
    "    txt=txt.replace(\"$\",\"\")\n",
    "    txt=txt.replace(\"#\",\"\")\n",
    "\n",
    "    return txt "
   ]
  },
  {
   "cell_type": "code",
   "execution_count": 267,
   "metadata": {},
   "outputs": [],
   "source": [
    "train_all['Headline'] = train_all.Headline.apply(clean_txt)\n",
    "train_all['articleBody'] = train_all.articleBody.apply(clean_txt)"
   ]
  },
  {
   "cell_type": "markdown",
   "metadata": {},
   "source": [
    "## Entity Tagging: "
   ]
  },
  {
   "cell_type": "code",
   "execution_count": 130,
   "metadata": {
    "scrolled": true
   },
   "outputs": [
    {
     "name": "stdout",
     "output_type": "stream",
     "text": [
      "Collecting en_core_web_lg==2.3.1\n",
      "  Downloading https://github.com/explosion/spacy-models/releases/download/en_core_web_lg-2.3.1/en_core_web_lg-2.3.1.tar.gz (782.7 MB)\n",
      "\u001b[K     |████████████████████████████████| 782.7 MB 6.9 kB/s  eta 0:00:01     |███████                         | 173.0 MB 62.0 MB/s eta 0:00:10     |███████████▏                    | 272.3 MB 49.1 MB/s eta 0:00:11     |██████████████                  | 343.6 MB 27.8 MB/s eta 0:00:16     |███████████████▌                | 380.1 MB 19.3 MB/s eta 0:00:21████████████████▉             | 460.3 MB 31.3 MB/s eta 0:00:11�█████████████             | 466.3 MB 1.9 MB/s eta 0:02:49████▏         | 542.5 MB 33.2 MB/s eta 0:00:08     |████████████████████████        | 584.8 MB 43.9 MB/s eta 0:00:05��████████████████▏       | 590.2 MB 43.9 MB/s eta 0:00:05     |████████████████████████▎       | 593.0 MB 43.9 MB/s eta 0:00:05MB/s eta 0:00:03MB/s eta 0:00:02| 705.5 MB 64.5 MB/s eta 0:00:02| 706.4 MB 64.5 MB/s eta 0:00:02��████████████   | 706.8 MB 3.7 MB/s eta 0:00:21 MB 3.7 MB/s eta 0:00:21     |█████████████████████████████▉  | 730.3 MB 3.7 MB/s eta 0:00:15     |██████████████████████████████▍ | 743.1 MB 3.7 MB/s eta 0:00:11\n",
      "\u001b[?25hRequirement already satisfied: spacy<2.4.0,>=2.3.0 in /opt/anaconda3/lib/python3.7/site-packages (from en_core_web_lg==2.3.1) (2.3.7)\n",
      "Requirement already satisfied: srsly<1.1.0,>=1.0.2 in /opt/anaconda3/lib/python3.7/site-packages (from spacy<2.4.0,>=2.3.0->en_core_web_lg==2.3.1) (1.0.5)\n",
      "Requirement already satisfied: cymem<2.1.0,>=2.0.2 in /opt/anaconda3/lib/python3.7/site-packages (from spacy<2.4.0,>=2.3.0->en_core_web_lg==2.3.1) (2.0.6)\n",
      "Requirement already satisfied: tqdm<5.0.0,>=4.38.0 in /opt/anaconda3/lib/python3.7/site-packages (from spacy<2.4.0,>=2.3.0->en_core_web_lg==2.3.1) (4.50.2)\n",
      "Requirement already satisfied: plac<1.2.0,>=0.9.6 in /opt/anaconda3/lib/python3.7/site-packages (from spacy<2.4.0,>=2.3.0->en_core_web_lg==2.3.1) (1.1.3)\n",
      "Requirement already satisfied: catalogue<1.1.0,>=0.0.7 in /opt/anaconda3/lib/python3.7/site-packages (from spacy<2.4.0,>=2.3.0->en_core_web_lg==2.3.1) (1.0.0)\n",
      "Requirement already satisfied: numpy>=1.15.0 in /opt/anaconda3/lib/python3.7/site-packages (from spacy<2.4.0,>=2.3.0->en_core_web_lg==2.3.1) (1.21.5)\n",
      "Requirement already satisfied: thinc<7.5.0,>=7.4.1 in /opt/anaconda3/lib/python3.7/site-packages (from spacy<2.4.0,>=2.3.0->en_core_web_lg==2.3.1) (7.4.5)\n",
      "Requirement already satisfied: wasabi<1.1.0,>=0.4.0 in /opt/anaconda3/lib/python3.7/site-packages (from spacy<2.4.0,>=2.3.0->en_core_web_lg==2.3.1) (0.8.2)\n",
      "Requirement already satisfied: preshed<3.1.0,>=3.0.2 in /opt/anaconda3/lib/python3.7/site-packages (from spacy<2.4.0,>=2.3.0->en_core_web_lg==2.3.1) (3.0.6)\n",
      "Requirement already satisfied: murmurhash<1.1.0,>=0.28.0 in /opt/anaconda3/lib/python3.7/site-packages (from spacy<2.4.0,>=2.3.0->en_core_web_lg==2.3.1) (1.0.6)\n",
      "Requirement already satisfied: setuptools in /opt/anaconda3/lib/python3.7/site-packages (from spacy<2.4.0,>=2.3.0->en_core_web_lg==2.3.1) (50.3.0.post20201006)\n",
      "Requirement already satisfied: requests<3.0.0,>=2.13.0 in /opt/anaconda3/lib/python3.7/site-packages (from spacy<2.4.0,>=2.3.0->en_core_web_lg==2.3.1) (2.24.0)\n",
      "Requirement already satisfied: blis<0.8.0,>=0.4.0 in /opt/anaconda3/lib/python3.7/site-packages (from spacy<2.4.0,>=2.3.0->en_core_web_lg==2.3.1) (0.7.5)\n",
      "Requirement already satisfied: importlib-metadata>=0.20; python_version < \"3.8\" in /opt/anaconda3/lib/python3.7/site-packages (from catalogue<1.1.0,>=0.0.7->spacy<2.4.0,>=2.3.0->en_core_web_lg==2.3.1) (3.10.1)\n",
      "Requirement already satisfied: certifi>=2017.4.17 in /opt/anaconda3/lib/python3.7/site-packages (from requests<3.0.0,>=2.13.0->spacy<2.4.0,>=2.3.0->en_core_web_lg==2.3.1) (2021.10.8)\n",
      "Requirement already satisfied: idna<3,>=2.5 in /opt/anaconda3/lib/python3.7/site-packages (from requests<3.0.0,>=2.13.0->spacy<2.4.0,>=2.3.0->en_core_web_lg==2.3.1) (2.10)\n",
      "Requirement already satisfied: urllib3!=1.25.0,!=1.25.1,<1.26,>=1.21.1 in /opt/anaconda3/lib/python3.7/site-packages (from requests<3.0.0,>=2.13.0->spacy<2.4.0,>=2.3.0->en_core_web_lg==2.3.1) (1.25.10)\n",
      "Requirement already satisfied: chardet<4,>=3.0.2 in /opt/anaconda3/lib/python3.7/site-packages (from requests<3.0.0,>=2.13.0->spacy<2.4.0,>=2.3.0->en_core_web_lg==2.3.1) (3.0.4)\n",
      "Requirement already satisfied: zipp>=0.5 in /opt/anaconda3/lib/python3.7/site-packages (from importlib-metadata>=0.20; python_version < \"3.8\"->catalogue<1.1.0,>=0.0.7->spacy<2.4.0,>=2.3.0->en_core_web_lg==2.3.1) (3.3.0)\n",
      "Requirement already satisfied: typing-extensions>=3.6.4; python_version < \"3.8\" in /opt/anaconda3/lib/python3.7/site-packages (from importlib-metadata>=0.20; python_version < \"3.8\"->catalogue<1.1.0,>=0.0.7->spacy<2.4.0,>=2.3.0->en_core_web_lg==2.3.1) (4.0.1)\n",
      "Building wheels for collected packages: en-core-web-lg\n",
      "  Building wheel for en-core-web-lg (setup.py) ... \u001b[?25ldone\n",
      "\u001b[?25h  Created wheel for en-core-web-lg: filename=en_core_web_lg-2.3.1-py3-none-any.whl size=782936123 sha256=aaef0ac9007e6693ee556a4eb225ee9e28a508cb9a0eea3e7e8109da573bf9bc\n",
      "  Stored in directory: /Users/nicholascalen/Library/Caches/pip/wheels/41/75/77/c4a98e18b2c317a2a13931cbbea7e3ca7f3a21efc36adc1d71\n",
      "Successfully built en-core-web-lg\n",
      "Installing collected packages: en-core-web-lg\n",
      "Successfully installed en-core-web-lg-2.3.1\n",
      "\u001b[38;5;2m✔ Download and installation successful\u001b[0m\n",
      "You can now load the model via spacy.load('en_core_web_lg')\n"
     ]
    }
   ],
   "source": [
    "!python -m spacy download en_core_web_lg"
   ]
  },
  {
   "cell_type": "code",
   "execution_count": 359,
   "metadata": {},
   "outputs": [],
   "source": [
    "import spacy\n",
    "import en_core_web_lg\n",
    "import swifter \n",
    "\n",
    "nlp = en_core_web_lg.load()"
   ]
  },
  {
   "cell_type": "code",
   "execution_count": 308,
   "metadata": {},
   "outputs": [],
   "source": [
    "\n",
    "accepted = ['PERSON','NORP','FAC','ORG','GPE','LOC','PRODUCT','EVENT',\n",
    "           'WORK_OF_ART','LAW','LANGUAGE','DATE','MONEY', 'NOUN','PROPN','NUM']\n",
    "\n",
    "def noun_tag(text): \n",
    "    text = \" \".join([x.lemma_ for x in [y \n",
    "                                          for y\n",
    "                                          in nlp(text) \n",
    "                                          if not y.is_stop and y.pos_ != 'PUNCT' ]])\n",
    "    doc = nlp(text)\n",
    "    return [X.text.lower() for X in doc if X.ent_type_ in accepted or X.pos_ in accepted] "
   ]
  },
  {
   "cell_type": "code",
   "execution_count": 325,
   "metadata": {},
   "outputs": [
    {
     "name": "stderr",
     "output_type": "stream",
     "text": [
      "ERROR:root:Internal Python error in the inspect module.\n",
      "Below is the traceback from this internal error.\n",
      "\n"
     ]
    },
    {
     "name": "stdout",
     "output_type": "stream",
     "text": [
      "Traceback (most recent call last):\n",
      "  File \"/opt/anaconda3/lib/python3.7/site-packages/swifter/swifter.py\", line 219, in apply\n",
      "    tmp_df = func(sample, *args, **kwds)\n",
      "  File \"<ipython-input-308-8ceee057f0b8>\", line 7, in noun_tag\n",
      "    in nlp(text)\n",
      "  File \"/opt/anaconda3/lib/python3.7/site-packages/spacy/language.py\", line 437, in __call__\n",
      "    doc = self.make_doc(text)\n",
      "  File \"/opt/anaconda3/lib/python3.7/site-packages/spacy/language.py\", line 467, in make_doc\n",
      "    return self.tokenizer(text)\n",
      "TypeError: Argument 'string' has incorrect type (expected str, got Series)\n",
      "\n",
      "During handling of the above exception, another exception occurred:\n",
      "\n",
      "Traceback (most recent call last):\n",
      "  File \"/opt/anaconda3/lib/python3.7/site-packages/IPython/core/interactiveshell.py\", line 3417, in run_code\n",
      "    exec(code_obj, self.user_global_ns, self.user_ns)\n",
      "  File \"<ipython-input-325-49cc0fa39cb3>\", line 2, in <module>\n",
      "    train_headlines['headline_ents'] = train_headlines['Headline'].swifter.apply(noun_tag)\n",
      "  File \"/opt/anaconda3/lib/python3.7/site-packages/swifter/swifter.py\", line 228, in apply\n",
      "    timed = timeit.timeit(wrapped, number=N_REPEATS)\n",
      "  File \"/opt/anaconda3/lib/python3.7/timeit.py\", line 233, in timeit\n",
      "    return Timer(stmt, setup, timer, globals).timeit(number)\n",
      "  File \"/opt/anaconda3/lib/python3.7/timeit.py\", line 177, in timeit\n",
      "    timing = self.inner(it, self.timer)\n",
      "  File \"<timeit-src>\", line 6, in inner\n",
      "  File \"/opt/anaconda3/lib/python3.7/site-packages/swifter/swifter.py\", line 152, in wrapped\n",
      "    self._obj.iloc[: self._SAMPLE_SIZE].apply(func, convert_dtype=convert_dtype, args=args, **kwds)\n",
      "  File \"/opt/anaconda3/lib/python3.7/site-packages/pandas/core/series.py\", line 4213, in apply\n",
      "    mapped = lib.map_infer(values, f, convert=convert_dtype)\n",
      "  File \"pandas/_libs/lib.pyx\", line 2403, in pandas._libs.lib.map_infer\n",
      "  File \"<ipython-input-308-8ceee057f0b8>\", line 7, in noun_tag\n",
      "    in nlp(text)\n",
      "  File \"/opt/anaconda3/lib/python3.7/site-packages/spacy/language.py\", line 437, in __call__\n",
      "    doc = self.make_doc(text)\n",
      "  File \"/opt/anaconda3/lib/python3.7/site-packages/spacy/language.py\", line 467, in make_doc\n",
      "    return self.tokenizer(text)\n",
      "  File \"tokenizer.pyx\", line 147, in spacy.tokenizer.Tokenizer.__call__\n",
      "  File \"doc.pyx\", line 216, in spacy.tokens.doc.Doc.__init__\n",
      "  File \"doc.pyx\", line 94, in spacy.tokens.doc._get_chunker\n",
      "  File \"/opt/anaconda3/lib/python3.7/site-packages/spacy/util.py\", line 74, in get_lang_class\n",
      "    if lang in registry.languages:\n",
      "  File \"/opt/anaconda3/lib/python3.7/site-packages/catalogue.py\", line 56, in __contains__\n",
      "    has_entry_point = self.entry_points and self.get_entry_point(name)\n",
      "  File \"/opt/anaconda3/lib/python3.7/site-packages/catalogue.py\", line 138, in get_entry_point\n",
      "    for entry_point in AVAILABLE_ENTRY_POINTS.get(self.entry_point_namespace, []):\n",
      "  File \"/opt/anaconda3/lib/python3.7/site-packages/importlib_metadata/__init__.py\", line 311, in get\n",
      "    flake8_bypass(self._warn)()\n",
      "  File \"/opt/anaconda3/lib/python3.7/site-packages/importlib_metadata/__init__.py\", line 272, in flake8_bypass\n",
      "    is_flake8 = any('flake8' in str(frame.filename) for frame in inspect.stack()[:5])\n",
      "  File \"/opt/anaconda3/lib/python3.7/inspect.py\", line 1513, in stack\n",
      "    return getouterframes(sys._getframe(1), context)\n",
      "  File \"/opt/anaconda3/lib/python3.7/inspect.py\", line 1490, in getouterframes\n",
      "    frameinfo = (frame,) + getframeinfo(frame, context)\n",
      "  File \"/opt/anaconda3/lib/python3.7/inspect.py\", line 1464, in getframeinfo\n",
      "    lines, lnum = findsource(frame)\n",
      "  File \"/opt/anaconda3/lib/python3.7/inspect.py\", line 768, in findsource\n",
      "    file = getsourcefile(object)\n",
      "  File \"/opt/anaconda3/lib/python3.7/inspect.py\", line 696, in getsourcefile\n",
      "    if getattr(getmodule(object, filename), '__loader__', None) is not None:\n",
      "  File \"/opt/anaconda3/lib/python3.7/inspect.py\", line 732, in getmodule\n",
      "    for modname, module in sys.modules.copy().items():\n",
      "KeyboardInterrupt\n",
      "\n",
      "During handling of the above exception, another exception occurred:\n",
      "\n",
      "Traceback (most recent call last):\n",
      "  File \"/opt/anaconda3/lib/python3.7/site-packages/IPython/core/interactiveshell.py\", line 2044, in showtraceback\n",
      "    stb = value._render_traceback_()\n",
      "AttributeError: 'KeyboardInterrupt' object has no attribute '_render_traceback_'\n",
      "\n",
      "During handling of the above exception, another exception occurred:\n",
      "\n",
      "Traceback (most recent call last):\n",
      "  File \"/opt/anaconda3/lib/python3.7/site-packages/IPython/core/ultratb.py\", line 1169, in get_records\n",
      "    return _fixed_getinnerframes(etb, number_of_lines_of_context, tb_offset)\n",
      "  File \"/opt/anaconda3/lib/python3.7/site-packages/IPython/core/ultratb.py\", line 316, in wrapped\n",
      "    return f(*args, **kwargs)\n",
      "  File \"/opt/anaconda3/lib/python3.7/site-packages/IPython/core/ultratb.py\", line 350, in _fixed_getinnerframes\n",
      "    records = fix_frame_records_filenames(inspect.getinnerframes(etb, context))\n",
      "  File \"/opt/anaconda3/lib/python3.7/inspect.py\", line 1502, in getinnerframes\n",
      "    frameinfo = (tb.tb_frame,) + getframeinfo(tb, context)\n",
      "  File \"/opt/anaconda3/lib/python3.7/inspect.py\", line 1460, in getframeinfo\n",
      "    filename = getsourcefile(frame) or getfile(frame)\n",
      "  File \"/opt/anaconda3/lib/python3.7/inspect.py\", line 693, in getsourcefile\n",
      "    if os.path.exists(filename):\n",
      "  File \"/opt/anaconda3/lib/python3.7/genericpath.py\", line 19, in exists\n",
      "    os.stat(path)\n",
      "KeyboardInterrupt\n"
     ]
    },
    {
     "ename": "TypeError",
     "evalue": "object of type 'NoneType' has no len()",
     "output_type": "error",
     "traceback": [
      "\u001b[0;31m---------------------------------------------------------------------------\u001b[0m",
      "\u001b[0;31mTypeError\u001b[0m                                 Traceback (most recent call last)",
      "\u001b[0;32m/opt/anaconda3/lib/python3.7/site-packages/swifter/swifter.py\u001b[0m in \u001b[0;36mapply\u001b[0;34m(self, func, convert_dtype, args, **kwds)\u001b[0m\n\u001b[1;32m    218\u001b[0m             \u001b[0;32mwith\u001b[0m \u001b[0msuppress_stdout_stderr_logging\u001b[0m\u001b[0;34m(\u001b[0m\u001b[0;34m)\u001b[0m\u001b[0;34m:\u001b[0m\u001b[0;34m\u001b[0m\u001b[0;34m\u001b[0m\u001b[0m\n\u001b[0;32m--> 219\u001b[0;31m                 \u001b[0mtmp_df\u001b[0m \u001b[0;34m=\u001b[0m \u001b[0mfunc\u001b[0m\u001b[0;34m(\u001b[0m\u001b[0msample\u001b[0m\u001b[0;34m,\u001b[0m \u001b[0;34m*\u001b[0m\u001b[0margs\u001b[0m\u001b[0;34m,\u001b[0m \u001b[0;34m**\u001b[0m\u001b[0mkwds\u001b[0m\u001b[0;34m)\u001b[0m\u001b[0;34m\u001b[0m\u001b[0;34m\u001b[0m\u001b[0m\n\u001b[0m\u001b[1;32m    220\u001b[0m                 \u001b[0msample_df\u001b[0m \u001b[0;34m=\u001b[0m \u001b[0msample\u001b[0m\u001b[0;34m.\u001b[0m\u001b[0mapply\u001b[0m\u001b[0;34m(\u001b[0m\u001b[0mfunc\u001b[0m\u001b[0;34m,\u001b[0m \u001b[0mconvert_dtype\u001b[0m\u001b[0;34m=\u001b[0m\u001b[0mconvert_dtype\u001b[0m\u001b[0;34m,\u001b[0m \u001b[0margs\u001b[0m\u001b[0;34m=\u001b[0m\u001b[0margs\u001b[0m\u001b[0;34m,\u001b[0m \u001b[0;34m**\u001b[0m\u001b[0mkwds\u001b[0m\u001b[0;34m)\u001b[0m\u001b[0;34m\u001b[0m\u001b[0;34m\u001b[0m\u001b[0m\n",
      "\u001b[0;32m<ipython-input-308-8ceee057f0b8>\u001b[0m in \u001b[0;36mnoun_tag\u001b[0;34m(text)\u001b[0m\n\u001b[1;32m      6\u001b[0m                                           \u001b[0;32mfor\u001b[0m \u001b[0my\u001b[0m\u001b[0;34m\u001b[0m\u001b[0;34m\u001b[0m\u001b[0m\n\u001b[0;32m----> 7\u001b[0;31m                                           \u001b[0;32min\u001b[0m \u001b[0mnlp\u001b[0m\u001b[0;34m(\u001b[0m\u001b[0mtext\u001b[0m\u001b[0;34m)\u001b[0m\u001b[0;34m\u001b[0m\u001b[0;34m\u001b[0m\u001b[0m\n\u001b[0m\u001b[1;32m      8\u001b[0m                                           if not y.is_stop and y.pos_ != 'PUNCT' ]])\n",
      "\u001b[0;32m/opt/anaconda3/lib/python3.7/site-packages/spacy/language.py\u001b[0m in \u001b[0;36m__call__\u001b[0;34m(self, text, disable, component_cfg)\u001b[0m\n\u001b[1;32m    436\u001b[0m         \"\"\"\n\u001b[0;32m--> 437\u001b[0;31m         \u001b[0mdoc\u001b[0m \u001b[0;34m=\u001b[0m \u001b[0mself\u001b[0m\u001b[0;34m.\u001b[0m\u001b[0mmake_doc\u001b[0m\u001b[0;34m(\u001b[0m\u001b[0mtext\u001b[0m\u001b[0;34m)\u001b[0m\u001b[0;34m\u001b[0m\u001b[0;34m\u001b[0m\u001b[0m\n\u001b[0m\u001b[1;32m    438\u001b[0m         \u001b[0;32mif\u001b[0m \u001b[0mcomponent_cfg\u001b[0m \u001b[0;32mis\u001b[0m \u001b[0;32mNone\u001b[0m\u001b[0;34m:\u001b[0m\u001b[0;34m\u001b[0m\u001b[0;34m\u001b[0m\u001b[0m\n",
      "\u001b[0;32m/opt/anaconda3/lib/python3.7/site-packages/spacy/language.py\u001b[0m in \u001b[0;36mmake_doc\u001b[0;34m(self, text)\u001b[0m\n\u001b[1;32m    466\u001b[0m             )\n\u001b[0;32m--> 467\u001b[0;31m         \u001b[0;32mreturn\u001b[0m \u001b[0mself\u001b[0m\u001b[0;34m.\u001b[0m\u001b[0mtokenizer\u001b[0m\u001b[0;34m(\u001b[0m\u001b[0mtext\u001b[0m\u001b[0;34m)\u001b[0m\u001b[0;34m\u001b[0m\u001b[0;34m\u001b[0m\u001b[0m\n\u001b[0m\u001b[1;32m    468\u001b[0m \u001b[0;34m\u001b[0m\u001b[0m\n",
      "\u001b[0;31mTypeError\u001b[0m: Argument 'string' has incorrect type (expected str, got Series)",
      "\nDuring handling of the above exception, another exception occurred:\n",
      "\u001b[0;31mKeyboardInterrupt\u001b[0m                         Traceback (most recent call last)",
      "    \u001b[0;31m[... skipping hidden 1 frame]\u001b[0m\n",
      "\u001b[0;32m<ipython-input-325-49cc0fa39cb3>\u001b[0m in \u001b[0;36m<module>\u001b[0;34m\u001b[0m\n\u001b[1;32m      1\u001b[0m \u001b[0;32mimport\u001b[0m \u001b[0mswifter\u001b[0m\u001b[0;34m\u001b[0m\u001b[0;34m\u001b[0m\u001b[0m\n\u001b[0;32m----> 2\u001b[0;31m \u001b[0mtrain_headlines\u001b[0m\u001b[0;34m[\u001b[0m\u001b[0;34m'headline_ents'\u001b[0m\u001b[0;34m]\u001b[0m \u001b[0;34m=\u001b[0m \u001b[0mtrain_headlines\u001b[0m\u001b[0;34m[\u001b[0m\u001b[0;34m'Headline'\u001b[0m\u001b[0;34m]\u001b[0m\u001b[0;34m.\u001b[0m\u001b[0mswifter\u001b[0m\u001b[0;34m.\u001b[0m\u001b[0mapply\u001b[0m\u001b[0;34m(\u001b[0m\u001b[0mnoun_tag\u001b[0m\u001b[0;34m)\u001b[0m\u001b[0;34m\u001b[0m\u001b[0;34m\u001b[0m\u001b[0m\n\u001b[0m",
      "\u001b[0;32m/opt/anaconda3/lib/python3.7/site-packages/swifter/swifter.py\u001b[0m in \u001b[0;36mapply\u001b[0;34m(self, func, convert_dtype, args, **kwds)\u001b[0m\n\u001b[1;32m    227\u001b[0m             \u001b[0mwrapped\u001b[0m \u001b[0;34m=\u001b[0m \u001b[0mself\u001b[0m\u001b[0;34m.\u001b[0m\u001b[0m_wrapped_apply\u001b[0m\u001b[0;34m(\u001b[0m\u001b[0mfunc\u001b[0m\u001b[0;34m,\u001b[0m \u001b[0mconvert_dtype\u001b[0m\u001b[0;34m=\u001b[0m\u001b[0mconvert_dtype\u001b[0m\u001b[0;34m,\u001b[0m \u001b[0margs\u001b[0m\u001b[0;34m=\u001b[0m\u001b[0margs\u001b[0m\u001b[0;34m,\u001b[0m \u001b[0;34m**\u001b[0m\u001b[0mkwds\u001b[0m\u001b[0;34m)\u001b[0m\u001b[0;34m\u001b[0m\u001b[0;34m\u001b[0m\u001b[0m\n\u001b[0;32m--> 228\u001b[0;31m             \u001b[0mtimed\u001b[0m \u001b[0;34m=\u001b[0m \u001b[0mtimeit\u001b[0m\u001b[0;34m.\u001b[0m\u001b[0mtimeit\u001b[0m\u001b[0;34m(\u001b[0m\u001b[0mwrapped\u001b[0m\u001b[0;34m,\u001b[0m \u001b[0mnumber\u001b[0m\u001b[0;34m=\u001b[0m\u001b[0mN_REPEATS\u001b[0m\u001b[0;34m)\u001b[0m\u001b[0;34m\u001b[0m\u001b[0;34m\u001b[0m\u001b[0m\n\u001b[0m\u001b[1;32m    229\u001b[0m             \u001b[0msample_proc_est\u001b[0m \u001b[0;34m=\u001b[0m \u001b[0mtimed\u001b[0m \u001b[0;34m/\u001b[0m \u001b[0mN_REPEATS\u001b[0m\u001b[0;34m\u001b[0m\u001b[0;34m\u001b[0m\u001b[0m\n",
      "\u001b[0;32m/opt/anaconda3/lib/python3.7/timeit.py\u001b[0m in \u001b[0;36mtimeit\u001b[0;34m(stmt, setup, timer, number, globals)\u001b[0m\n\u001b[1;32m    232\u001b[0m     \u001b[0;34m\"\"\"Convenience function to create Timer object and call timeit method.\"\"\"\u001b[0m\u001b[0;34m\u001b[0m\u001b[0;34m\u001b[0m\u001b[0m\n\u001b[0;32m--> 233\u001b[0;31m     \u001b[0;32mreturn\u001b[0m \u001b[0mTimer\u001b[0m\u001b[0;34m(\u001b[0m\u001b[0mstmt\u001b[0m\u001b[0;34m,\u001b[0m \u001b[0msetup\u001b[0m\u001b[0;34m,\u001b[0m \u001b[0mtimer\u001b[0m\u001b[0;34m,\u001b[0m \u001b[0mglobals\u001b[0m\u001b[0;34m)\u001b[0m\u001b[0;34m.\u001b[0m\u001b[0mtimeit\u001b[0m\u001b[0;34m(\u001b[0m\u001b[0mnumber\u001b[0m\u001b[0;34m)\u001b[0m\u001b[0;34m\u001b[0m\u001b[0;34m\u001b[0m\u001b[0m\n\u001b[0m\u001b[1;32m    234\u001b[0m \u001b[0;34m\u001b[0m\u001b[0m\n",
      "\u001b[0;32m/opt/anaconda3/lib/python3.7/timeit.py\u001b[0m in \u001b[0;36mtimeit\u001b[0;34m(self, number)\u001b[0m\n\u001b[1;32m    176\u001b[0m         \u001b[0;32mtry\u001b[0m\u001b[0;34m:\u001b[0m\u001b[0;34m\u001b[0m\u001b[0;34m\u001b[0m\u001b[0m\n\u001b[0;32m--> 177\u001b[0;31m             \u001b[0mtiming\u001b[0m \u001b[0;34m=\u001b[0m \u001b[0mself\u001b[0m\u001b[0;34m.\u001b[0m\u001b[0minner\u001b[0m\u001b[0;34m(\u001b[0m\u001b[0mit\u001b[0m\u001b[0;34m,\u001b[0m \u001b[0mself\u001b[0m\u001b[0;34m.\u001b[0m\u001b[0mtimer\u001b[0m\u001b[0;34m)\u001b[0m\u001b[0;34m\u001b[0m\u001b[0;34m\u001b[0m\u001b[0m\n\u001b[0m\u001b[1;32m    178\u001b[0m         \u001b[0;32mfinally\u001b[0m\u001b[0;34m:\u001b[0m\u001b[0;34m\u001b[0m\u001b[0;34m\u001b[0m\u001b[0m\n",
      "\u001b[0;32m/opt/anaconda3/lib/python3.7/timeit.py\u001b[0m in \u001b[0;36minner\u001b[0;34m(_it, _timer, _stmt)\u001b[0m\n",
      "\u001b[0;32m/opt/anaconda3/lib/python3.7/site-packages/swifter/swifter.py\u001b[0m in \u001b[0;36mwrapped\u001b[0;34m()\u001b[0m\n\u001b[1;32m    151\u001b[0m             \u001b[0;32mwith\u001b[0m \u001b[0msuppress_stdout_stderr_logging\u001b[0m\u001b[0;34m(\u001b[0m\u001b[0;34m)\u001b[0m\u001b[0;34m:\u001b[0m\u001b[0;34m\u001b[0m\u001b[0;34m\u001b[0m\u001b[0m\n\u001b[0;32m--> 152\u001b[0;31m                 \u001b[0mself\u001b[0m\u001b[0;34m.\u001b[0m\u001b[0m_obj\u001b[0m\u001b[0;34m.\u001b[0m\u001b[0miloc\u001b[0m\u001b[0;34m[\u001b[0m\u001b[0;34m:\u001b[0m \u001b[0mself\u001b[0m\u001b[0;34m.\u001b[0m\u001b[0m_SAMPLE_SIZE\u001b[0m\u001b[0;34m]\u001b[0m\u001b[0;34m.\u001b[0m\u001b[0mapply\u001b[0m\u001b[0;34m(\u001b[0m\u001b[0mfunc\u001b[0m\u001b[0;34m,\u001b[0m \u001b[0mconvert_dtype\u001b[0m\u001b[0;34m=\u001b[0m\u001b[0mconvert_dtype\u001b[0m\u001b[0;34m,\u001b[0m \u001b[0margs\u001b[0m\u001b[0;34m=\u001b[0m\u001b[0margs\u001b[0m\u001b[0;34m,\u001b[0m \u001b[0;34m**\u001b[0m\u001b[0mkwds\u001b[0m\u001b[0;34m)\u001b[0m\u001b[0;34m\u001b[0m\u001b[0;34m\u001b[0m\u001b[0m\n\u001b[0m\u001b[1;32m    153\u001b[0m \u001b[0;34m\u001b[0m\u001b[0m\n",
      "\u001b[0;32m/opt/anaconda3/lib/python3.7/site-packages/pandas/core/series.py\u001b[0m in \u001b[0;36mapply\u001b[0;34m(self, func, convert_dtype, args, **kwds)\u001b[0m\n\u001b[1;32m   4212\u001b[0m                 \u001b[0mvalues\u001b[0m \u001b[0;34m=\u001b[0m \u001b[0mself\u001b[0m\u001b[0;34m.\u001b[0m\u001b[0mastype\u001b[0m\u001b[0;34m(\u001b[0m\u001b[0mobject\u001b[0m\u001b[0;34m)\u001b[0m\u001b[0;34m.\u001b[0m\u001b[0m_values\u001b[0m\u001b[0;34m\u001b[0m\u001b[0;34m\u001b[0m\u001b[0m\n\u001b[0;32m-> 4213\u001b[0;31m                 \u001b[0mmapped\u001b[0m \u001b[0;34m=\u001b[0m \u001b[0mlib\u001b[0m\u001b[0;34m.\u001b[0m\u001b[0mmap_infer\u001b[0m\u001b[0;34m(\u001b[0m\u001b[0mvalues\u001b[0m\u001b[0;34m,\u001b[0m \u001b[0mf\u001b[0m\u001b[0;34m,\u001b[0m \u001b[0mconvert\u001b[0m\u001b[0;34m=\u001b[0m\u001b[0mconvert_dtype\u001b[0m\u001b[0;34m)\u001b[0m\u001b[0;34m\u001b[0m\u001b[0;34m\u001b[0m\u001b[0m\n\u001b[0m\u001b[1;32m   4214\u001b[0m \u001b[0;34m\u001b[0m\u001b[0m\n",
      "\u001b[0;32mpandas/_libs/lib.pyx\u001b[0m in \u001b[0;36mpandas._libs.lib.map_infer\u001b[0;34m()\u001b[0m\n",
      "\u001b[0;32m<ipython-input-308-8ceee057f0b8>\u001b[0m in \u001b[0;36mnoun_tag\u001b[0;34m(text)\u001b[0m\n\u001b[1;32m      6\u001b[0m                                           \u001b[0;32mfor\u001b[0m \u001b[0my\u001b[0m\u001b[0;34m\u001b[0m\u001b[0;34m\u001b[0m\u001b[0m\n\u001b[0;32m----> 7\u001b[0;31m                                           \u001b[0;32min\u001b[0m \u001b[0mnlp\u001b[0m\u001b[0;34m(\u001b[0m\u001b[0mtext\u001b[0m\u001b[0;34m)\u001b[0m\u001b[0;34m\u001b[0m\u001b[0;34m\u001b[0m\u001b[0m\n\u001b[0m\u001b[1;32m      8\u001b[0m                                           if not y.is_stop and y.pos_ != 'PUNCT' ]])\n",
      "\u001b[0;32m/opt/anaconda3/lib/python3.7/site-packages/spacy/language.py\u001b[0m in \u001b[0;36m__call__\u001b[0;34m(self, text, disable, component_cfg)\u001b[0m\n\u001b[1;32m    436\u001b[0m         \"\"\"\n\u001b[0;32m--> 437\u001b[0;31m         \u001b[0mdoc\u001b[0m \u001b[0;34m=\u001b[0m \u001b[0mself\u001b[0m\u001b[0;34m.\u001b[0m\u001b[0mmake_doc\u001b[0m\u001b[0;34m(\u001b[0m\u001b[0mtext\u001b[0m\u001b[0;34m)\u001b[0m\u001b[0;34m\u001b[0m\u001b[0;34m\u001b[0m\u001b[0m\n\u001b[0m\u001b[1;32m    438\u001b[0m         \u001b[0;32mif\u001b[0m \u001b[0mcomponent_cfg\u001b[0m \u001b[0;32mis\u001b[0m \u001b[0;32mNone\u001b[0m\u001b[0;34m:\u001b[0m\u001b[0;34m\u001b[0m\u001b[0;34m\u001b[0m\u001b[0m\n",
      "\u001b[0;32m/opt/anaconda3/lib/python3.7/site-packages/spacy/language.py\u001b[0m in \u001b[0;36mmake_doc\u001b[0;34m(self, text)\u001b[0m\n\u001b[1;32m    466\u001b[0m             )\n\u001b[0;32m--> 467\u001b[0;31m         \u001b[0;32mreturn\u001b[0m \u001b[0mself\u001b[0m\u001b[0;34m.\u001b[0m\u001b[0mtokenizer\u001b[0m\u001b[0;34m(\u001b[0m\u001b[0mtext\u001b[0m\u001b[0;34m)\u001b[0m\u001b[0;34m\u001b[0m\u001b[0;34m\u001b[0m\u001b[0m\n\u001b[0m\u001b[1;32m    468\u001b[0m \u001b[0;34m\u001b[0m\u001b[0m\n",
      "\u001b[0;32mtokenizer.pyx\u001b[0m in \u001b[0;36mspacy.tokenizer.Tokenizer.__call__\u001b[0;34m()\u001b[0m\n",
      "\u001b[0;32mdoc.pyx\u001b[0m in \u001b[0;36mspacy.tokens.doc.Doc.__init__\u001b[0;34m()\u001b[0m\n",
      "\u001b[0;32mdoc.pyx\u001b[0m in \u001b[0;36mspacy.tokens.doc._get_chunker\u001b[0;34m()\u001b[0m\n",
      "\u001b[0;32m/opt/anaconda3/lib/python3.7/site-packages/spacy/util.py\u001b[0m in \u001b[0;36mget_lang_class\u001b[0;34m(lang)\u001b[0m\n\u001b[1;32m     73\u001b[0m     \u001b[0;31m# Check if language is registered / entry point is available\u001b[0m\u001b[0;34m\u001b[0m\u001b[0;34m\u001b[0m\u001b[0;34m\u001b[0m\u001b[0m\n\u001b[0;32m---> 74\u001b[0;31m     \u001b[0;32mif\u001b[0m \u001b[0mlang\u001b[0m \u001b[0;32min\u001b[0m \u001b[0mregistry\u001b[0m\u001b[0;34m.\u001b[0m\u001b[0mlanguages\u001b[0m\u001b[0;34m:\u001b[0m\u001b[0;34m\u001b[0m\u001b[0;34m\u001b[0m\u001b[0m\n\u001b[0m\u001b[1;32m     75\u001b[0m         \u001b[0;32mreturn\u001b[0m \u001b[0mregistry\u001b[0m\u001b[0;34m.\u001b[0m\u001b[0mlanguages\u001b[0m\u001b[0;34m.\u001b[0m\u001b[0mget\u001b[0m\u001b[0;34m(\u001b[0m\u001b[0mlang\u001b[0m\u001b[0;34m)\u001b[0m\u001b[0;34m\u001b[0m\u001b[0;34m\u001b[0m\u001b[0m\n",
      "\u001b[0;32m/opt/anaconda3/lib/python3.7/site-packages/catalogue.py\u001b[0m in \u001b[0;36m__contains__\u001b[0;34m(self, name)\u001b[0m\n\u001b[1;32m     55\u001b[0m         \u001b[0mnamespace\u001b[0m \u001b[0;34m=\u001b[0m \u001b[0mtuple\u001b[0m\u001b[0;34m(\u001b[0m\u001b[0mlist\u001b[0m\u001b[0;34m(\u001b[0m\u001b[0mself\u001b[0m\u001b[0;34m.\u001b[0m\u001b[0mnamespace\u001b[0m\u001b[0;34m)\u001b[0m \u001b[0;34m+\u001b[0m \u001b[0;34m[\u001b[0m\u001b[0mname\u001b[0m\u001b[0;34m]\u001b[0m\u001b[0;34m)\u001b[0m\u001b[0;34m\u001b[0m\u001b[0;34m\u001b[0m\u001b[0m\n\u001b[0;32m---> 56\u001b[0;31m         \u001b[0mhas_entry_point\u001b[0m \u001b[0;34m=\u001b[0m \u001b[0mself\u001b[0m\u001b[0;34m.\u001b[0m\u001b[0mentry_points\u001b[0m \u001b[0;32mand\u001b[0m \u001b[0mself\u001b[0m\u001b[0;34m.\u001b[0m\u001b[0mget_entry_point\u001b[0m\u001b[0;34m(\u001b[0m\u001b[0mname\u001b[0m\u001b[0;34m)\u001b[0m\u001b[0;34m\u001b[0m\u001b[0;34m\u001b[0m\u001b[0m\n\u001b[0m\u001b[1;32m     57\u001b[0m         \u001b[0;32mreturn\u001b[0m \u001b[0mhas_entry_point\u001b[0m \u001b[0;32mor\u001b[0m \u001b[0mnamespace\u001b[0m \u001b[0;32min\u001b[0m \u001b[0mREGISTRY\u001b[0m\u001b[0;34m\u001b[0m\u001b[0;34m\u001b[0m\u001b[0m\n",
      "\u001b[0;32m/opt/anaconda3/lib/python3.7/site-packages/catalogue.py\u001b[0m in \u001b[0;36mget_entry_point\u001b[0;34m(self, name, default)\u001b[0m\n\u001b[1;32m    137\u001b[0m         \"\"\"\n\u001b[0;32m--> 138\u001b[0;31m         \u001b[0;32mfor\u001b[0m \u001b[0mentry_point\u001b[0m \u001b[0;32min\u001b[0m \u001b[0mAVAILABLE_ENTRY_POINTS\u001b[0m\u001b[0;34m.\u001b[0m\u001b[0mget\u001b[0m\u001b[0;34m(\u001b[0m\u001b[0mself\u001b[0m\u001b[0;34m.\u001b[0m\u001b[0mentry_point_namespace\u001b[0m\u001b[0;34m,\u001b[0m \u001b[0;34m[\u001b[0m\u001b[0;34m]\u001b[0m\u001b[0;34m)\u001b[0m\u001b[0;34m:\u001b[0m\u001b[0;34m\u001b[0m\u001b[0;34m\u001b[0m\u001b[0m\n\u001b[0m\u001b[1;32m    139\u001b[0m             \u001b[0;32mif\u001b[0m \u001b[0mentry_point\u001b[0m\u001b[0;34m.\u001b[0m\u001b[0mname\u001b[0m \u001b[0;34m==\u001b[0m \u001b[0mname\u001b[0m\u001b[0;34m:\u001b[0m\u001b[0;34m\u001b[0m\u001b[0;34m\u001b[0m\u001b[0m\n",
      "\u001b[0;32m/opt/anaconda3/lib/python3.7/site-packages/importlib_metadata/__init__.py\u001b[0m in \u001b[0;36mget\u001b[0;34m(self, name, default)\u001b[0m\n\u001b[1;32m    310\u001b[0m     \u001b[0;32mdef\u001b[0m \u001b[0mget\u001b[0m\u001b[0;34m(\u001b[0m\u001b[0mself\u001b[0m\u001b[0;34m,\u001b[0m \u001b[0mname\u001b[0m\u001b[0;34m,\u001b[0m \u001b[0mdefault\u001b[0m\u001b[0;34m=\u001b[0m\u001b[0;32mNone\u001b[0m\u001b[0;34m)\u001b[0m\u001b[0;34m:\u001b[0m\u001b[0;34m\u001b[0m\u001b[0;34m\u001b[0m\u001b[0m\n\u001b[0;32m--> 311\u001b[0;31m         \u001b[0mflake8_bypass\u001b[0m\u001b[0;34m(\u001b[0m\u001b[0mself\u001b[0m\u001b[0;34m.\u001b[0m\u001b[0m_warn\u001b[0m\u001b[0;34m)\u001b[0m\u001b[0;34m(\u001b[0m\u001b[0;34m)\u001b[0m\u001b[0;34m\u001b[0m\u001b[0;34m\u001b[0m\u001b[0m\n\u001b[0m\u001b[1;32m    312\u001b[0m         \u001b[0;32mreturn\u001b[0m \u001b[0msuper\u001b[0m\u001b[0;34m(\u001b[0m\u001b[0;34m)\u001b[0m\u001b[0;34m.\u001b[0m\u001b[0mget\u001b[0m\u001b[0;34m(\u001b[0m\u001b[0mname\u001b[0m\u001b[0;34m,\u001b[0m \u001b[0mdefault\u001b[0m\u001b[0;34m)\u001b[0m\u001b[0;34m\u001b[0m\u001b[0;34m\u001b[0m\u001b[0m\n",
      "\u001b[0;32m/opt/anaconda3/lib/python3.7/site-packages/importlib_metadata/__init__.py\u001b[0m in \u001b[0;36mflake8_bypass\u001b[0;34m(func)\u001b[0m\n\u001b[1;32m    271\u001b[0m \u001b[0;34m\u001b[0m\u001b[0m\n\u001b[0;32m--> 272\u001b[0;31m     \u001b[0mis_flake8\u001b[0m \u001b[0;34m=\u001b[0m \u001b[0many\u001b[0m\u001b[0;34m(\u001b[0m\u001b[0;34m'flake8'\u001b[0m \u001b[0;32min\u001b[0m \u001b[0mstr\u001b[0m\u001b[0;34m(\u001b[0m\u001b[0mframe\u001b[0m\u001b[0;34m.\u001b[0m\u001b[0mfilename\u001b[0m\u001b[0;34m)\u001b[0m \u001b[0;32mfor\u001b[0m \u001b[0mframe\u001b[0m \u001b[0;32min\u001b[0m \u001b[0minspect\u001b[0m\u001b[0;34m.\u001b[0m\u001b[0mstack\u001b[0m\u001b[0;34m(\u001b[0m\u001b[0;34m)\u001b[0m\u001b[0;34m[\u001b[0m\u001b[0;34m:\u001b[0m\u001b[0;36m5\u001b[0m\u001b[0;34m]\u001b[0m\u001b[0;34m)\u001b[0m\u001b[0;34m\u001b[0m\u001b[0;34m\u001b[0m\u001b[0m\n\u001b[0m\u001b[1;32m    273\u001b[0m     \u001b[0;32mreturn\u001b[0m \u001b[0mfunc\u001b[0m \u001b[0;32mif\u001b[0m \u001b[0;32mnot\u001b[0m \u001b[0mis_flake8\u001b[0m \u001b[0;32melse\u001b[0m \u001b[0;32mlambda\u001b[0m\u001b[0;34m:\u001b[0m \u001b[0;32mNone\u001b[0m\u001b[0;34m\u001b[0m\u001b[0;34m\u001b[0m\u001b[0m\n",
      "\u001b[0;32m/opt/anaconda3/lib/python3.7/inspect.py\u001b[0m in \u001b[0;36mstack\u001b[0;34m(context)\u001b[0m\n\u001b[1;32m   1512\u001b[0m     \u001b[0;34m\"\"\"Return a list of records for the stack above the caller's frame.\"\"\"\u001b[0m\u001b[0;34m\u001b[0m\u001b[0;34m\u001b[0m\u001b[0m\n\u001b[0;32m-> 1513\u001b[0;31m     \u001b[0;32mreturn\u001b[0m \u001b[0mgetouterframes\u001b[0m\u001b[0;34m(\u001b[0m\u001b[0msys\u001b[0m\u001b[0;34m.\u001b[0m\u001b[0m_getframe\u001b[0m\u001b[0;34m(\u001b[0m\u001b[0;36m1\u001b[0m\u001b[0;34m)\u001b[0m\u001b[0;34m,\u001b[0m \u001b[0mcontext\u001b[0m\u001b[0;34m)\u001b[0m\u001b[0;34m\u001b[0m\u001b[0;34m\u001b[0m\u001b[0m\n\u001b[0m\u001b[1;32m   1514\u001b[0m \u001b[0;34m\u001b[0m\u001b[0m\n",
      "\u001b[0;32m/opt/anaconda3/lib/python3.7/inspect.py\u001b[0m in \u001b[0;36mgetouterframes\u001b[0;34m(frame, context)\u001b[0m\n\u001b[1;32m   1489\u001b[0m     \u001b[0;32mwhile\u001b[0m \u001b[0mframe\u001b[0m\u001b[0;34m:\u001b[0m\u001b[0;34m\u001b[0m\u001b[0;34m\u001b[0m\u001b[0m\n\u001b[0;32m-> 1490\u001b[0;31m         \u001b[0mframeinfo\u001b[0m \u001b[0;34m=\u001b[0m \u001b[0;34m(\u001b[0m\u001b[0mframe\u001b[0m\u001b[0;34m,\u001b[0m\u001b[0;34m)\u001b[0m \u001b[0;34m+\u001b[0m \u001b[0mgetframeinfo\u001b[0m\u001b[0;34m(\u001b[0m\u001b[0mframe\u001b[0m\u001b[0;34m,\u001b[0m \u001b[0mcontext\u001b[0m\u001b[0;34m)\u001b[0m\u001b[0;34m\u001b[0m\u001b[0;34m\u001b[0m\u001b[0m\n\u001b[0m\u001b[1;32m   1491\u001b[0m         \u001b[0mframelist\u001b[0m\u001b[0;34m.\u001b[0m\u001b[0mappend\u001b[0m\u001b[0;34m(\u001b[0m\u001b[0mFrameInfo\u001b[0m\u001b[0;34m(\u001b[0m\u001b[0;34m*\u001b[0m\u001b[0mframeinfo\u001b[0m\u001b[0;34m)\u001b[0m\u001b[0;34m)\u001b[0m\u001b[0;34m\u001b[0m\u001b[0;34m\u001b[0m\u001b[0m\n",
      "\u001b[0;32m/opt/anaconda3/lib/python3.7/inspect.py\u001b[0m in \u001b[0;36mgetframeinfo\u001b[0;34m(frame, context)\u001b[0m\n\u001b[1;32m   1463\u001b[0m         \u001b[0;32mtry\u001b[0m\u001b[0;34m:\u001b[0m\u001b[0;34m\u001b[0m\u001b[0;34m\u001b[0m\u001b[0m\n\u001b[0;32m-> 1464\u001b[0;31m             \u001b[0mlines\u001b[0m\u001b[0;34m,\u001b[0m \u001b[0mlnum\u001b[0m \u001b[0;34m=\u001b[0m \u001b[0mfindsource\u001b[0m\u001b[0;34m(\u001b[0m\u001b[0mframe\u001b[0m\u001b[0;34m)\u001b[0m\u001b[0;34m\u001b[0m\u001b[0;34m\u001b[0m\u001b[0m\n\u001b[0m\u001b[1;32m   1465\u001b[0m         \u001b[0;32mexcept\u001b[0m \u001b[0mOSError\u001b[0m\u001b[0;34m:\u001b[0m\u001b[0;34m\u001b[0m\u001b[0;34m\u001b[0m\u001b[0m\n",
      "\u001b[0;32m/opt/anaconda3/lib/python3.7/inspect.py\u001b[0m in \u001b[0;36mfindsource\u001b[0;34m(object)\u001b[0m\n\u001b[1;32m    767\u001b[0m \u001b[0;34m\u001b[0m\u001b[0m\n\u001b[0;32m--> 768\u001b[0;31m     \u001b[0mfile\u001b[0m \u001b[0;34m=\u001b[0m \u001b[0mgetsourcefile\u001b[0m\u001b[0;34m(\u001b[0m\u001b[0mobject\u001b[0m\u001b[0;34m)\u001b[0m\u001b[0;34m\u001b[0m\u001b[0;34m\u001b[0m\u001b[0m\n\u001b[0m\u001b[1;32m    769\u001b[0m     \u001b[0;32mif\u001b[0m \u001b[0mfile\u001b[0m\u001b[0;34m:\u001b[0m\u001b[0;34m\u001b[0m\u001b[0;34m\u001b[0m\u001b[0m\n",
      "\u001b[0;32m/opt/anaconda3/lib/python3.7/inspect.py\u001b[0m in \u001b[0;36mgetsourcefile\u001b[0;34m(object)\u001b[0m\n\u001b[1;32m    695\u001b[0m     \u001b[0;31m# only return a non-existent filename if the module has a PEP 302 loader\u001b[0m\u001b[0;34m\u001b[0m\u001b[0;34m\u001b[0m\u001b[0;34m\u001b[0m\u001b[0m\n\u001b[0;32m--> 696\u001b[0;31m     \u001b[0;32mif\u001b[0m \u001b[0mgetattr\u001b[0m\u001b[0;34m(\u001b[0m\u001b[0mgetmodule\u001b[0m\u001b[0;34m(\u001b[0m\u001b[0mobject\u001b[0m\u001b[0;34m,\u001b[0m \u001b[0mfilename\u001b[0m\u001b[0;34m)\u001b[0m\u001b[0;34m,\u001b[0m \u001b[0;34m'__loader__'\u001b[0m\u001b[0;34m,\u001b[0m \u001b[0;32mNone\u001b[0m\u001b[0;34m)\u001b[0m \u001b[0;32mis\u001b[0m \u001b[0;32mnot\u001b[0m \u001b[0;32mNone\u001b[0m\u001b[0;34m:\u001b[0m\u001b[0;34m\u001b[0m\u001b[0;34m\u001b[0m\u001b[0m\n\u001b[0m\u001b[1;32m    697\u001b[0m         \u001b[0;32mreturn\u001b[0m \u001b[0mfilename\u001b[0m\u001b[0;34m\u001b[0m\u001b[0;34m\u001b[0m\u001b[0m\n",
      "\u001b[0;32m/opt/anaconda3/lib/python3.7/inspect.py\u001b[0m in \u001b[0;36mgetmodule\u001b[0;34m(object, _filename)\u001b[0m\n\u001b[1;32m    731\u001b[0m     \u001b[0;31m# Copy sys.modules in order to cope with changes while iterating\u001b[0m\u001b[0;34m\u001b[0m\u001b[0;34m\u001b[0m\u001b[0;34m\u001b[0m\u001b[0m\n\u001b[0;32m--> 732\u001b[0;31m     \u001b[0;32mfor\u001b[0m \u001b[0mmodname\u001b[0m\u001b[0;34m,\u001b[0m \u001b[0mmodule\u001b[0m \u001b[0;32min\u001b[0m \u001b[0msys\u001b[0m\u001b[0;34m.\u001b[0m\u001b[0mmodules\u001b[0m\u001b[0;34m.\u001b[0m\u001b[0mcopy\u001b[0m\u001b[0;34m(\u001b[0m\u001b[0;34m)\u001b[0m\u001b[0;34m.\u001b[0m\u001b[0mitems\u001b[0m\u001b[0;34m(\u001b[0m\u001b[0;34m)\u001b[0m\u001b[0;34m:\u001b[0m\u001b[0;34m\u001b[0m\u001b[0;34m\u001b[0m\u001b[0m\n\u001b[0m\u001b[1;32m    733\u001b[0m         \u001b[0;32mif\u001b[0m \u001b[0mismodule\u001b[0m\u001b[0;34m(\u001b[0m\u001b[0mmodule\u001b[0m\u001b[0;34m)\u001b[0m \u001b[0;32mand\u001b[0m \u001b[0mhasattr\u001b[0m\u001b[0;34m(\u001b[0m\u001b[0mmodule\u001b[0m\u001b[0;34m,\u001b[0m \u001b[0;34m'__file__'\u001b[0m\u001b[0;34m)\u001b[0m\u001b[0;34m:\u001b[0m\u001b[0;34m\u001b[0m\u001b[0;34m\u001b[0m\u001b[0m\n",
      "\u001b[0;31mKeyboardInterrupt\u001b[0m: ",
      "\nDuring handling of the above exception, another exception occurred:\n",
      "\u001b[0;31mAttributeError\u001b[0m                            Traceback (most recent call last)",
      "\u001b[0;32m/opt/anaconda3/lib/python3.7/site-packages/IPython/core/interactiveshell.py\u001b[0m in \u001b[0;36mshowtraceback\u001b[0;34m(self, exc_tuple, filename, tb_offset, exception_only, running_compiled_code)\u001b[0m\n\u001b[1;32m   2043\u001b[0m                         \u001b[0;31m# in the engines. This should return a list of strings.\u001b[0m\u001b[0;34m\u001b[0m\u001b[0;34m\u001b[0m\u001b[0;34m\u001b[0m\u001b[0m\n\u001b[0;32m-> 2044\u001b[0;31m                         \u001b[0mstb\u001b[0m \u001b[0;34m=\u001b[0m \u001b[0mvalue\u001b[0m\u001b[0;34m.\u001b[0m\u001b[0m_render_traceback_\u001b[0m\u001b[0;34m(\u001b[0m\u001b[0;34m)\u001b[0m\u001b[0;34m\u001b[0m\u001b[0;34m\u001b[0m\u001b[0m\n\u001b[0m\u001b[1;32m   2045\u001b[0m                     \u001b[0;32mexcept\u001b[0m \u001b[0mException\u001b[0m\u001b[0;34m:\u001b[0m\u001b[0;34m\u001b[0m\u001b[0;34m\u001b[0m\u001b[0m\n",
      "\u001b[0;31mAttributeError\u001b[0m: 'KeyboardInterrupt' object has no attribute '_render_traceback_'",
      "\nDuring handling of the above exception, another exception occurred:\n",
      "\u001b[0;31mTypeError\u001b[0m                                 Traceback (most recent call last)",
      "    \u001b[0;31m[... skipping hidden 1 frame]\u001b[0m\n",
      "\u001b[0;32m/opt/anaconda3/lib/python3.7/site-packages/IPython/core/interactiveshell.py\u001b[0m in \u001b[0;36mshowtraceback\u001b[0;34m(self, exc_tuple, filename, tb_offset, exception_only, running_compiled_code)\u001b[0m\n\u001b[1;32m   2045\u001b[0m                     \u001b[0;32mexcept\u001b[0m \u001b[0mException\u001b[0m\u001b[0;34m:\u001b[0m\u001b[0;34m\u001b[0m\u001b[0;34m\u001b[0m\u001b[0m\n\u001b[1;32m   2046\u001b[0m                         stb = self.InteractiveTB.structured_traceback(etype,\n\u001b[0;32m-> 2047\u001b[0;31m                                             value, tb, tb_offset=tb_offset)\n\u001b[0m\u001b[1;32m   2048\u001b[0m \u001b[0;34m\u001b[0m\u001b[0m\n\u001b[1;32m   2049\u001b[0m                     \u001b[0mself\u001b[0m\u001b[0;34m.\u001b[0m\u001b[0m_showtraceback\u001b[0m\u001b[0;34m(\u001b[0m\u001b[0metype\u001b[0m\u001b[0;34m,\u001b[0m \u001b[0mvalue\u001b[0m\u001b[0;34m,\u001b[0m \u001b[0mstb\u001b[0m\u001b[0;34m)\u001b[0m\u001b[0;34m\u001b[0m\u001b[0;34m\u001b[0m\u001b[0m\n",
      "\u001b[0;32m/opt/anaconda3/lib/python3.7/site-packages/IPython/core/ultratb.py\u001b[0m in \u001b[0;36mstructured_traceback\u001b[0;34m(self, etype, value, tb, tb_offset, number_of_lines_of_context)\u001b[0m\n\u001b[1;32m   1434\u001b[0m             \u001b[0mself\u001b[0m\u001b[0;34m.\u001b[0m\u001b[0mtb\u001b[0m \u001b[0;34m=\u001b[0m \u001b[0mtb\u001b[0m\u001b[0;34m\u001b[0m\u001b[0;34m\u001b[0m\u001b[0m\n\u001b[1;32m   1435\u001b[0m         return FormattedTB.structured_traceback(\n\u001b[0;32m-> 1436\u001b[0;31m             self, etype, value, tb, tb_offset, number_of_lines_of_context)\n\u001b[0m\u001b[1;32m   1437\u001b[0m \u001b[0;34m\u001b[0m\u001b[0m\n\u001b[1;32m   1438\u001b[0m \u001b[0;34m\u001b[0m\u001b[0m\n",
      "\u001b[0;32m/opt/anaconda3/lib/python3.7/site-packages/IPython/core/ultratb.py\u001b[0m in \u001b[0;36mstructured_traceback\u001b[0;34m(self, etype, value, tb, tb_offset, number_of_lines_of_context)\u001b[0m\n\u001b[1;32m   1334\u001b[0m             \u001b[0;31m# Verbose modes need a full traceback\u001b[0m\u001b[0;34m\u001b[0m\u001b[0;34m\u001b[0m\u001b[0;34m\u001b[0m\u001b[0m\n\u001b[1;32m   1335\u001b[0m             return VerboseTB.structured_traceback(\n\u001b[0;32m-> 1336\u001b[0;31m                 \u001b[0mself\u001b[0m\u001b[0;34m,\u001b[0m \u001b[0metype\u001b[0m\u001b[0;34m,\u001b[0m \u001b[0mvalue\u001b[0m\u001b[0;34m,\u001b[0m \u001b[0mtb\u001b[0m\u001b[0;34m,\u001b[0m \u001b[0mtb_offset\u001b[0m\u001b[0;34m,\u001b[0m \u001b[0mnumber_of_lines_of_context\u001b[0m\u001b[0;34m\u001b[0m\u001b[0;34m\u001b[0m\u001b[0m\n\u001b[0m\u001b[1;32m   1337\u001b[0m             )\n\u001b[1;32m   1338\u001b[0m         \u001b[0;32melif\u001b[0m \u001b[0mmode\u001b[0m \u001b[0;34m==\u001b[0m \u001b[0;34m'Minimal'\u001b[0m\u001b[0;34m:\u001b[0m\u001b[0;34m\u001b[0m\u001b[0;34m\u001b[0m\u001b[0m\n",
      "\u001b[0;32m/opt/anaconda3/lib/python3.7/site-packages/IPython/core/ultratb.py\u001b[0m in \u001b[0;36mstructured_traceback\u001b[0;34m(self, etype, evalue, etb, tb_offset, number_of_lines_of_context)\u001b[0m\n\u001b[1;32m   1191\u001b[0m \u001b[0;34m\u001b[0m\u001b[0m\n\u001b[1;32m   1192\u001b[0m         formatted_exception = self.format_exception_as_a_whole(etype, evalue, etb, number_of_lines_of_context,\n\u001b[0;32m-> 1193\u001b[0;31m                                                                tb_offset)\n\u001b[0m\u001b[1;32m   1194\u001b[0m \u001b[0;34m\u001b[0m\u001b[0m\n\u001b[1;32m   1195\u001b[0m         \u001b[0mcolors\u001b[0m \u001b[0;34m=\u001b[0m \u001b[0mself\u001b[0m\u001b[0;34m.\u001b[0m\u001b[0mColors\u001b[0m  \u001b[0;31m# just a shorthand + quicker name lookup\u001b[0m\u001b[0;34m\u001b[0m\u001b[0;34m\u001b[0m\u001b[0m\n",
      "\u001b[0;32m/opt/anaconda3/lib/python3.7/site-packages/IPython/core/ultratb.py\u001b[0m in \u001b[0;36mformat_exception_as_a_whole\u001b[0;34m(self, etype, evalue, etb, number_of_lines_of_context, tb_offset)\u001b[0m\n\u001b[1;32m   1148\u001b[0m \u001b[0;34m\u001b[0m\u001b[0m\n\u001b[1;32m   1149\u001b[0m \u001b[0;34m\u001b[0m\u001b[0m\n\u001b[0;32m-> 1150\u001b[0;31m         \u001b[0mlast_unique\u001b[0m\u001b[0;34m,\u001b[0m \u001b[0mrecursion_repeat\u001b[0m \u001b[0;34m=\u001b[0m \u001b[0mfind_recursion\u001b[0m\u001b[0;34m(\u001b[0m\u001b[0morig_etype\u001b[0m\u001b[0;34m,\u001b[0m \u001b[0mevalue\u001b[0m\u001b[0;34m,\u001b[0m \u001b[0mrecords\u001b[0m\u001b[0;34m)\u001b[0m\u001b[0;34m\u001b[0m\u001b[0;34m\u001b[0m\u001b[0m\n\u001b[0m\u001b[1;32m   1151\u001b[0m \u001b[0;34m\u001b[0m\u001b[0m\n\u001b[1;32m   1152\u001b[0m         \u001b[0mframes\u001b[0m \u001b[0;34m=\u001b[0m \u001b[0mself\u001b[0m\u001b[0;34m.\u001b[0m\u001b[0mformat_records\u001b[0m\u001b[0;34m(\u001b[0m\u001b[0mrecords\u001b[0m\u001b[0;34m,\u001b[0m \u001b[0mlast_unique\u001b[0m\u001b[0;34m,\u001b[0m \u001b[0mrecursion_repeat\u001b[0m\u001b[0;34m)\u001b[0m\u001b[0;34m\u001b[0m\u001b[0;34m\u001b[0m\u001b[0m\n",
      "\u001b[0;32m/opt/anaconda3/lib/python3.7/site-packages/IPython/core/ultratb.py\u001b[0m in \u001b[0;36mfind_recursion\u001b[0;34m(etype, value, records)\u001b[0m\n\u001b[1;32m    449\u001b[0m     \u001b[0;31m# first frame (from in to out) that looks different.\u001b[0m\u001b[0;34m\u001b[0m\u001b[0;34m\u001b[0m\u001b[0;34m\u001b[0m\u001b[0m\n\u001b[1;32m    450\u001b[0m     \u001b[0;32mif\u001b[0m \u001b[0;32mnot\u001b[0m \u001b[0mis_recursion_error\u001b[0m\u001b[0;34m(\u001b[0m\u001b[0metype\u001b[0m\u001b[0;34m,\u001b[0m \u001b[0mvalue\u001b[0m\u001b[0;34m,\u001b[0m \u001b[0mrecords\u001b[0m\u001b[0;34m)\u001b[0m\u001b[0;34m:\u001b[0m\u001b[0;34m\u001b[0m\u001b[0;34m\u001b[0m\u001b[0m\n\u001b[0;32m--> 451\u001b[0;31m         \u001b[0;32mreturn\u001b[0m \u001b[0mlen\u001b[0m\u001b[0;34m(\u001b[0m\u001b[0mrecords\u001b[0m\u001b[0;34m)\u001b[0m\u001b[0;34m,\u001b[0m \u001b[0;36m0\u001b[0m\u001b[0;34m\u001b[0m\u001b[0;34m\u001b[0m\u001b[0m\n\u001b[0m\u001b[1;32m    452\u001b[0m \u001b[0;34m\u001b[0m\u001b[0m\n\u001b[1;32m    453\u001b[0m     \u001b[0;31m# Select filename, lineno, func_name to track frames with\u001b[0m\u001b[0;34m\u001b[0m\u001b[0;34m\u001b[0m\u001b[0;34m\u001b[0m\u001b[0m\n",
      "\u001b[0;31mTypeError\u001b[0m: object of type 'NoneType' has no len()"
     ]
    }
   ],
   "source": [
    "train_headlines['headline_ents'] = train_headlines['Headline'].swifter.apply(noun_tag) "
   ]
  },
  {
   "cell_type": "code",
   "execution_count": 309,
   "metadata": {},
   "outputs": [
    {
     "data": {
      "application/vnd.jupyter.widget-view+json": {
       "model_id": "fc07461fecb04f169458fdc6ca5d01d4",
       "version_major": 2,
       "version_minor": 0
      },
      "text/plain": [
       "HBox(children=(HTML(value='Pandas Apply'), FloatProgress(value=0.0, max=1683.0), HTML(value='')))"
      ]
     },
     "metadata": {},
     "output_type": "display_data"
    },
    {
     "name": "stdout",
     "output_type": "stream",
     "text": [
      "\n"
     ]
    }
   ],
   "source": [
    "train_bodies['body_ents'] = train_bodies['articleBody'].swifter.apply(noun_tag) "
   ]
  },
  {
   "cell_type": "code",
   "execution_count": 310,
   "metadata": {},
   "outputs": [],
   "source": [
    "train_all = train_headlines.join(train_bodies)\n",
    "train_all['target_stage1'] = ''\n",
    "train_all['target_stage2'] = train_all.Stance\n",
    "train_all.loc[train_all.Stance == 'unrelated', 'target_stage1'] = 'unrelated'\n",
    "train_all.loc[train_all.Stance != 'unrelated', 'target_stage1'] = 'related'\n",
    "train_all.loc[train_all.Stance == 'unrelated', 'target_stage2'] = None\n",
    "train_all.drop('Stance',inplace=True,axis=1)\n",
    "train_all.reset_index(inplace=True,drop=True)"
   ]
  },
  {
   "cell_type": "code",
   "execution_count": 328,
   "metadata": {},
   "outputs": [
    {
     "data": {
      "text/html": [
       "<div>\n",
       "<style scoped>\n",
       "    .dataframe tbody tr th:only-of-type {\n",
       "        vertical-align: middle;\n",
       "    }\n",
       "\n",
       "    .dataframe tbody tr th {\n",
       "        vertical-align: top;\n",
       "    }\n",
       "\n",
       "    .dataframe thead th {\n",
       "        text-align: right;\n",
       "    }\n",
       "</style>\n",
       "<table border=\"1\" class=\"dataframe\">\n",
       "  <thead>\n",
       "    <tr style=\"text-align: right;\">\n",
       "      <th></th>\n",
       "      <th>Headline</th>\n",
       "      <th>headline_ents</th>\n",
       "      <th>articleBody</th>\n",
       "      <th>body_ents</th>\n",
       "      <th>target_stage1</th>\n",
       "      <th>target_stage2</th>\n",
       "      <th>jaccard_similarity_nouns</th>\n",
       "      <th>pred</th>\n",
       "      <th>headline_ents_t</th>\n",
       "    </tr>\n",
       "  </thead>\n",
       "  <tbody>\n",
       "    <tr>\n",
       "      <th>0</th>\n",
       "      <td>Soldier shot, Parliament locked down after gun...</td>\n",
       "      <td>soldier parliament gunfire war memorial</td>\n",
       "      <td>A small meteorite crashed into a wooded area i...</td>\n",
       "      <td>[meteorite, crash, area, nicaragua, capital, m...</td>\n",
       "      <td>unrelated</td>\n",
       "      <td>None</td>\n",
       "      <td>0.0</td>\n",
       "      <td>unrelated</td>\n",
       "      <td>[soldier, parliament, gunfire, war, memorial]</td>\n",
       "    </tr>\n",
       "    <tr>\n",
       "      <th>1</th>\n",
       "      <td>Tourist dubbed ‘Spider Man’ after spider burro...</td>\n",
       "      <td>tourist spider man spider burrow skin day</td>\n",
       "      <td>A small meteorite crashed into a wooded area i...</td>\n",
       "      <td>[meteorite, crash, area, nicaragua, capital, m...</td>\n",
       "      <td>unrelated</td>\n",
       "      <td>None</td>\n",
       "      <td>0.0</td>\n",
       "      <td>unrelated</td>\n",
       "      <td>[tourist, spider, man, spider, burrow, skin, day]</td>\n",
       "    </tr>\n",
       "    <tr>\n",
       "      <th>2</th>\n",
       "      <td>Luke Somers 'killed in failed rescue attempt i...</td>\n",
       "      <td>luke somers rescue attempt yemen</td>\n",
       "      <td>A small meteorite crashed into a wooded area i...</td>\n",
       "      <td>[meteorite, crash, area, nicaragua, capital, m...</td>\n",
       "      <td>unrelated</td>\n",
       "      <td>None</td>\n",
       "      <td>0.0</td>\n",
       "      <td>unrelated</td>\n",
       "      <td>[luke, somers, rescue, attempt, yemen]</td>\n",
       "    </tr>\n",
       "    <tr>\n",
       "      <th>3</th>\n",
       "      <td>BREAKING: Soldier shot at War Memorial in Ottawa</td>\n",
       "      <td>soldier war memorial ottawa</td>\n",
       "      <td>A small meteorite crashed into a wooded area i...</td>\n",
       "      <td>[meteorite, crash, area, nicaragua, capital, m...</td>\n",
       "      <td>unrelated</td>\n",
       "      <td>None</td>\n",
       "      <td>0.0</td>\n",
       "      <td>unrelated</td>\n",
       "      <td>[soldier, war, memorial, ottawa]</td>\n",
       "    </tr>\n",
       "    <tr>\n",
       "      <th>4</th>\n",
       "      <td>Giant 8ft 9in catfish weighing 19 stone caught...</td>\n",
       "      <td>ft catfish stone italy rod line</td>\n",
       "      <td>A small meteorite crashed into a wooded area i...</td>\n",
       "      <td>[meteorite, crash, area, nicaragua, capital, m...</td>\n",
       "      <td>unrelated</td>\n",
       "      <td>None</td>\n",
       "      <td>0.0</td>\n",
       "      <td>unrelated</td>\n",
       "      <td>[ft, catfish, stone, italy, rod, line]</td>\n",
       "    </tr>\n",
       "  </tbody>\n",
       "</table>\n",
       "</div>"
      ],
      "text/plain": [
       "                                            Headline  \\\n",
       "0  Soldier shot, Parliament locked down after gun...   \n",
       "1  Tourist dubbed ‘Spider Man’ after spider burro...   \n",
       "2  Luke Somers 'killed in failed rescue attempt i...   \n",
       "3   BREAKING: Soldier shot at War Memorial in Ottawa   \n",
       "4  Giant 8ft 9in catfish weighing 19 stone caught...   \n",
       "\n",
       "                               headline_ents  \\\n",
       "0    soldier parliament gunfire war memorial   \n",
       "1  tourist spider man spider burrow skin day   \n",
       "2           luke somers rescue attempt yemen   \n",
       "3                soldier war memorial ottawa   \n",
       "4            ft catfish stone italy rod line   \n",
       "\n",
       "                                         articleBody  \\\n",
       "0  A small meteorite crashed into a wooded area i...   \n",
       "1  A small meteorite crashed into a wooded area i...   \n",
       "2  A small meteorite crashed into a wooded area i...   \n",
       "3  A small meteorite crashed into a wooded area i...   \n",
       "4  A small meteorite crashed into a wooded area i...   \n",
       "\n",
       "                                           body_ents target_stage1  \\\n",
       "0  [meteorite, crash, area, nicaragua, capital, m...     unrelated   \n",
       "1  [meteorite, crash, area, nicaragua, capital, m...     unrelated   \n",
       "2  [meteorite, crash, area, nicaragua, capital, m...     unrelated   \n",
       "3  [meteorite, crash, area, nicaragua, capital, m...     unrelated   \n",
       "4  [meteorite, crash, area, nicaragua, capital, m...     unrelated   \n",
       "\n",
       "  target_stage2  jaccard_similarity_nouns       pred  \\\n",
       "0          None                       0.0  unrelated   \n",
       "1          None                       0.0  unrelated   \n",
       "2          None                       0.0  unrelated   \n",
       "3          None                       0.0  unrelated   \n",
       "4          None                       0.0  unrelated   \n",
       "\n",
       "                                     headline_ents_t  \n",
       "0      [soldier, parliament, gunfire, war, memorial]  \n",
       "1  [tourist, spider, man, spider, burrow, skin, day]  \n",
       "2             [luke, somers, rescue, attempt, yemen]  \n",
       "3                   [soldier, war, memorial, ottawa]  \n",
       "4             [ft, catfish, stone, italy, rod, line]  "
      ]
     },
     "execution_count": 328,
     "metadata": {},
     "output_type": "execute_result"
    }
   ],
   "source": [
    "train_all.head()"
   ]
  },
  {
   "cell_type": "code",
   "execution_count": 327,
   "metadata": {},
   "outputs": [],
   "source": [
    "train_all['headline_ents_t'] = train_all['headline_ents'].apply(lambda x: x.split())"
   ]
  },
  {
   "cell_type": "code",
   "execution_count": 761,
   "metadata": {},
   "outputs": [
    {
     "data": {
      "text/plain": [
       "(0        ['meteorite', 'crash', 'area', 'nicaragua', 'c...\n",
       " 1        ['meteorite', 'crash', 'area', 'nicaragua', 'c...\n",
       " 2        ['meteorite', 'crash', 'area', 'nicaragua', 'c...\n",
       " 3        ['meteorite', 'crash', 'area', 'nicaragua', 'c...\n",
       " 4        ['meteorite', 'crash', 'area', 'nicaragua', 'c...\n",
       "                                ...                        \n",
       " 49967    ['ann', 'arbor', 'michigan', 'pizza', 'deliver...\n",
       " 49968    ['ann', 'arbor', 'michigan', 'pizza', 'deliver...\n",
       " 49969    ['ann', 'arbor', 'michigan', 'pizza', 'deliver...\n",
       " 49970    ['ann', 'arbor', 'michigan', 'pizza', 'deliver...\n",
       " 49971    ['ann', 'arbor', 'michigan', 'pizza', 'deliver...\n",
       " Name: body_ents, Length: 49909, dtype: object,\n",
       " 0        ['soldier', 'parliament', 'gunfire', 'war', 'm...\n",
       " 1        ['tourist', 'spider', 'man', 'spider', 'burrow...\n",
       " 2         ['luke', 'somers', 'rescue', 'attempt', 'yemen']\n",
       " 3                 ['soldier', 'war', 'memorial', 'ottawa']\n",
       " 4        ['ft', 'catfish', 'stone', 'italy', 'rod', 'li...\n",
       "                                ...                        \n",
       " 49967             ['pizza', 'delivery', 'man', 'delivery']\n",
       " 49968                  ['pizza', 'delivery', 'man', 'tip']\n",
       " 49969                  ['pizza', 'delivery', 'guy', 'tip']\n",
       " 49970    ['ann', 'arbor', 'pizza', 'delivery', 'driver'...\n",
       " 49971    ['ann', 'arbor', 'pizza', 'delivery', 'driver'...\n",
       " Name: headline_ents_t, Length: 49909, dtype: object)"
      ]
     },
     "execution_count": 761,
     "metadata": {},
     "output_type": "execute_result"
    }
   ],
   "source": [
    "train_all['body_ents'],train_all['headline_ents_t'] "
   ]
  },
  {
   "cell_type": "code",
   "execution_count": 762,
   "metadata": {},
   "outputs": [],
   "source": [
    "def jaccard_similarity(query, document):\n",
    "    intersection = set(query).intersection(set(document))\n",
    "    union = set(query).union(set(document))\n",
    "    if len(union) == 0: \n",
    "        return len(intersection)/(len(union) + 1)\n",
    "    else: \n",
    "        return len(intersection)/(len(union))"
   ]
  },
  {
   "cell_type": "code",
   "execution_count": 763,
   "metadata": {},
   "outputs": [],
   "source": [
    "train_all['jaccard_similarity_nouns'] = train_all.apply(lambda x: jaccard_similarity(x.headline_ents_t, \n",
    "                                                                                     x.body_ents), axis=1)"
   ]
  },
  {
   "cell_type": "code",
   "execution_count": 764,
   "metadata": {},
   "outputs": [
    {
     "data": {
      "text/plain": [
       "0.04"
      ]
     },
     "execution_count": 764,
     "metadata": {},
     "output_type": "execute_result"
    }
   ],
   "source": [
    "train_all.loc[train_all.target_stage1 =='related','jaccard_similarity_nouns'].min()"
   ]
  },
  {
   "cell_type": "code",
   "execution_count": 765,
   "metadata": {},
   "outputs": [
    {
     "data": {
      "image/png": "[encoded data removed]",
      "text/plain": [
       "<Figure size 432x288 with 1 Axes>"
      ]
     },
     "metadata": {
      "needs_background": "light"
     },
     "output_type": "display_data"
    }
   ],
   "source": [
    "import seaborn as sns \n",
    "import matplotlib.pyplot as plt\n",
    "sns.histplot(train_all, x=\"jaccard_similarity_nouns\", hue=\"target_stage1\", common_norm=True)\n",
    "#plt.xlim(0, .05)\n",
    "plt.show() "
   ]
  },
  {
   "cell_type": "code",
   "execution_count": 481,
   "metadata": {},
   "outputs": [],
   "source": [
    "from sklearn.metrics import roc_curve, precision_recall_curve, auc, make_scorer, recall_score, accuracy_score, precision_score, confusion_matrix"
   ]
  },
  {
   "cell_type": "code",
   "execution_count": 767,
   "metadata": {},
   "outputs": [
    {
     "data": {
      "text/plain": [
       "0.1819715841438145"
      ]
     },
     "execution_count": 767,
     "metadata": {},
     "output_type": "execute_result"
    }
   ],
   "source": [
    "from scipy.optimize import minimize_scalar\n",
    "def objective(threshold): \n",
    "    train_all['pred'] ='unrelated'\n",
    "    train_all.loc[train_all.jaccard_similarity_nouns > threshold, 'pred'] = 'related'\n",
    "    return -accuracy_score(train_all.target_stage1, train_all.pred)\n",
    "minimize_scalar(objective,bounds=[0,.2],method='Bounded')['x']"
   ]
  },
  {
   "cell_type": "code",
   "execution_count": 738,
   "metadata": {
    "scrolled": true
   },
   "outputs": [
    {
     "name": "stdout",
     "output_type": "stream",
     "text": [
      "75.83592135001261\n",
      "104.16407864998737\n",
      "121.67184270002522\n",
      "132.49223594996215\n",
      "139.1796067500631\n",
      "143.31262919989905\n",
      "145.86697755016402\n",
      "147.445651649735\n",
      "148.421325900429\n",
      "149.02432574930597\n",
      "149.397000151123\n",
      "149.62732559818295\n"
     ]
    },
    {
     "ename": "KeyboardInterrupt",
     "evalue": "",
     "output_type": "error",
     "traceback": [
      "\u001b[0;31m---------------------------------------------------------------------------\u001b[0m",
      "\u001b[0;31mKeyboardInterrupt\u001b[0m                         Traceback (most recent call last)",
      "\u001b[0;32m<ipython-input-738-4f45260dbfaa>\u001b[0m in \u001b[0;36m<module>\u001b[0;34m\u001b[0m\n\u001b[1;32m     15\u001b[0m     \u001b[0;32mreturn\u001b[0m \u001b[0;34m-\u001b[0m\u001b[0maccuracy_score\u001b[0m\u001b[0;34m(\u001b[0m\u001b[0mtrain_all\u001b[0m\u001b[0;34m.\u001b[0m\u001b[0mtarget_stage1\u001b[0m\u001b[0;34m,\u001b[0m \u001b[0mtrain_all\u001b[0m\u001b[0;34m.\u001b[0m\u001b[0mpred\u001b[0m\u001b[0;34m)\u001b[0m\u001b[0;34m\u001b[0m\u001b[0;34m\u001b[0m\u001b[0m\n\u001b[1;32m     16\u001b[0m \u001b[0;34m\u001b[0m\u001b[0m\n\u001b[0;32m---> 17\u001b[0;31m \u001b[0mminimize_scalar\u001b[0m\u001b[0;34m(\u001b[0m\u001b[0mobjective\u001b[0m\u001b[0;34m,\u001b[0m\u001b[0mbounds\u001b[0m\u001b[0;34m=\u001b[0m\u001b[0;34m[\u001b[0m\u001b[0;36m30\u001b[0m\u001b[0;34m,\u001b[0m\u001b[0;36m150\u001b[0m\u001b[0;34m]\u001b[0m\u001b[0;34m,\u001b[0m\u001b[0mmethod\u001b[0m\u001b[0;34m=\u001b[0m\u001b[0;34m'Bounded'\u001b[0m\u001b[0;34m)\u001b[0m\u001b[0;34m\u001b[0m\u001b[0;34m\u001b[0m\u001b[0m\n\u001b[0m",
      "\u001b[0;32m/opt/anaconda3/lib/python3.7/site-packages/scipy/optimize/_minimize.py\u001b[0m in \u001b[0;36mminimize_scalar\u001b[0;34m(fun, bracket, bounds, args, method, tol, options)\u001b[0m\n\u001b[1;32m    796\u001b[0m         \u001b[0;32mif\u001b[0m \u001b[0misinstance\u001b[0m\u001b[0;34m(\u001b[0m\u001b[0mdisp\u001b[0m\u001b[0;34m,\u001b[0m \u001b[0mbool\u001b[0m\u001b[0;34m)\u001b[0m\u001b[0;34m:\u001b[0m\u001b[0;34m\u001b[0m\u001b[0;34m\u001b[0m\u001b[0m\n\u001b[1;32m    797\u001b[0m             \u001b[0moptions\u001b[0m\u001b[0;34m[\u001b[0m\u001b[0;34m'disp'\u001b[0m\u001b[0;34m]\u001b[0m \u001b[0;34m=\u001b[0m \u001b[0;36m2\u001b[0m \u001b[0;34m*\u001b[0m \u001b[0mint\u001b[0m\u001b[0;34m(\u001b[0m\u001b[0mdisp\u001b[0m\u001b[0;34m)\u001b[0m\u001b[0;34m\u001b[0m\u001b[0;34m\u001b[0m\u001b[0m\n\u001b[0;32m--> 798\u001b[0;31m         \u001b[0;32mreturn\u001b[0m \u001b[0m_minimize_scalar_bounded\u001b[0m\u001b[0;34m(\u001b[0m\u001b[0mfun\u001b[0m\u001b[0;34m,\u001b[0m \u001b[0mbounds\u001b[0m\u001b[0;34m,\u001b[0m \u001b[0margs\u001b[0m\u001b[0;34m,\u001b[0m \u001b[0;34m**\u001b[0m\u001b[0moptions\u001b[0m\u001b[0;34m)\u001b[0m\u001b[0;34m\u001b[0m\u001b[0;34m\u001b[0m\u001b[0m\n\u001b[0m\u001b[1;32m    799\u001b[0m     \u001b[0;32melif\u001b[0m \u001b[0mmeth\u001b[0m \u001b[0;34m==\u001b[0m \u001b[0;34m'golden'\u001b[0m\u001b[0;34m:\u001b[0m\u001b[0;34m\u001b[0m\u001b[0;34m\u001b[0m\u001b[0m\n\u001b[1;32m    800\u001b[0m         \u001b[0;32mreturn\u001b[0m \u001b[0m_minimize_scalar_golden\u001b[0m\u001b[0;34m(\u001b[0m\u001b[0mfun\u001b[0m\u001b[0;34m,\u001b[0m \u001b[0mbracket\u001b[0m\u001b[0;34m,\u001b[0m \u001b[0margs\u001b[0m\u001b[0;34m,\u001b[0m \u001b[0;34m**\u001b[0m\u001b[0moptions\u001b[0m\u001b[0;34m)\u001b[0m\u001b[0;34m\u001b[0m\u001b[0;34m\u001b[0m\u001b[0m\n",
      "\u001b[0;32m/opt/anaconda3/lib/python3.7/site-packages/scipy/optimize/optimize.py\u001b[0m in \u001b[0;36m_minimize_scalar_bounded\u001b[0;34m(func, bounds, args, xatol, maxiter, disp, **unknown_options)\u001b[0m\n\u001b[1;32m   1976\u001b[0m         \u001b[0msi\u001b[0m \u001b[0;34m=\u001b[0m \u001b[0mnp\u001b[0m\u001b[0;34m.\u001b[0m\u001b[0msign\u001b[0m\u001b[0;34m(\u001b[0m\u001b[0mrat\u001b[0m\u001b[0;34m)\u001b[0m \u001b[0;34m+\u001b[0m \u001b[0;34m(\u001b[0m\u001b[0mrat\u001b[0m \u001b[0;34m==\u001b[0m \u001b[0;36m0\u001b[0m\u001b[0;34m)\u001b[0m\u001b[0;34m\u001b[0m\u001b[0;34m\u001b[0m\u001b[0m\n\u001b[1;32m   1977\u001b[0m         \u001b[0mx\u001b[0m \u001b[0;34m=\u001b[0m \u001b[0mxf\u001b[0m \u001b[0;34m+\u001b[0m \u001b[0msi\u001b[0m \u001b[0;34m*\u001b[0m \u001b[0mnp\u001b[0m\u001b[0;34m.\u001b[0m\u001b[0mmax\u001b[0m\u001b[0;34m(\u001b[0m\u001b[0;34m[\u001b[0m\u001b[0mnp\u001b[0m\u001b[0;34m.\u001b[0m\u001b[0mabs\u001b[0m\u001b[0;34m(\u001b[0m\u001b[0mrat\u001b[0m\u001b[0;34m)\u001b[0m\u001b[0;34m,\u001b[0m \u001b[0mtol1\u001b[0m\u001b[0;34m]\u001b[0m\u001b[0;34m)\u001b[0m\u001b[0;34m\u001b[0m\u001b[0;34m\u001b[0m\u001b[0m\n\u001b[0;32m-> 1978\u001b[0;31m         \u001b[0mfu\u001b[0m \u001b[0;34m=\u001b[0m \u001b[0mfunc\u001b[0m\u001b[0;34m(\u001b[0m\u001b[0mx\u001b[0m\u001b[0;34m,\u001b[0m \u001b[0;34m*\u001b[0m\u001b[0margs\u001b[0m\u001b[0;34m)\u001b[0m\u001b[0;34m\u001b[0m\u001b[0;34m\u001b[0m\u001b[0m\n\u001b[0m\u001b[1;32m   1979\u001b[0m         \u001b[0mnum\u001b[0m \u001b[0;34m+=\u001b[0m \u001b[0;36m1\u001b[0m\u001b[0;34m\u001b[0m\u001b[0;34m\u001b[0m\u001b[0m\n\u001b[1;32m   1980\u001b[0m         \u001b[0mfmin_data\u001b[0m \u001b[0;34m=\u001b[0m \u001b[0;34m(\u001b[0m\u001b[0mnum\u001b[0m\u001b[0;34m,\u001b[0m \u001b[0mx\u001b[0m\u001b[0;34m,\u001b[0m \u001b[0mfu\u001b[0m\u001b[0;34m)\u001b[0m\u001b[0;34m\u001b[0m\u001b[0;34m\u001b[0m\u001b[0m\n",
      "\u001b[0;32m<ipython-input-738-4f45260dbfaa>\u001b[0m in \u001b[0;36mobjective\u001b[0;34m(token)\u001b[0m\n\u001b[1;32m     11\u001b[0m     \u001b[0mprint\u001b[0m\u001b[0;34m(\u001b[0m\u001b[0mtoken\u001b[0m\u001b[0;34m)\u001b[0m\u001b[0;34m\u001b[0m\u001b[0;34m\u001b[0m\u001b[0m\n\u001b[1;32m     12\u001b[0m     train_all['jaccard_similarity_nouns'] = train_all.apply(lambda x: jaccard_similarity_opt(x.headline_ents_t, \n\u001b[0;32m---> 13\u001b[0;31m                                                                                      x.body_ents, token), axis=1)\n\u001b[0m\u001b[1;32m     14\u001b[0m     \u001b[0mtrain_all\u001b[0m\u001b[0;34m.\u001b[0m\u001b[0mloc\u001b[0m\u001b[0;34m[\u001b[0m\u001b[0mtrain_all\u001b[0m\u001b[0;34m.\u001b[0m\u001b[0mjaccard_similarity_nouns\u001b[0m \u001b[0;34m>\u001b[0m \u001b[0;36m0.03184318914993509\u001b[0m\u001b[0;34m,\u001b[0m \u001b[0;34m'pred'\u001b[0m\u001b[0;34m]\u001b[0m \u001b[0;34m=\u001b[0m \u001b[0;34m'related'\u001b[0m\u001b[0;34m\u001b[0m\u001b[0;34m\u001b[0m\u001b[0m\n\u001b[1;32m     15\u001b[0m     \u001b[0;32mreturn\u001b[0m \u001b[0;34m-\u001b[0m\u001b[0maccuracy_score\u001b[0m\u001b[0;34m(\u001b[0m\u001b[0mtrain_all\u001b[0m\u001b[0;34m.\u001b[0m\u001b[0mtarget_stage1\u001b[0m\u001b[0;34m,\u001b[0m \u001b[0mtrain_all\u001b[0m\u001b[0;34m.\u001b[0m\u001b[0mpred\u001b[0m\u001b[0;34m)\u001b[0m\u001b[0;34m\u001b[0m\u001b[0;34m\u001b[0m\u001b[0m\n",
      "\u001b[0;32m/opt/anaconda3/lib/python3.7/site-packages/pandas/core/frame.py\u001b[0m in \u001b[0;36mapply\u001b[0;34m(self, func, axis, raw, result_type, args, **kwds)\u001b[0m\n\u001b[1;32m   7550\u001b[0m             \u001b[0mkwds\u001b[0m\u001b[0;34m=\u001b[0m\u001b[0mkwds\u001b[0m\u001b[0;34m,\u001b[0m\u001b[0;34m\u001b[0m\u001b[0;34m\u001b[0m\u001b[0m\n\u001b[1;32m   7551\u001b[0m         )\n\u001b[0;32m-> 7552\u001b[0;31m         \u001b[0;32mreturn\u001b[0m \u001b[0mop\u001b[0m\u001b[0;34m.\u001b[0m\u001b[0mget_result\u001b[0m\u001b[0;34m(\u001b[0m\u001b[0;34m)\u001b[0m\u001b[0;34m\u001b[0m\u001b[0;34m\u001b[0m\u001b[0m\n\u001b[0m\u001b[1;32m   7553\u001b[0m \u001b[0;34m\u001b[0m\u001b[0m\n\u001b[1;32m   7554\u001b[0m     \u001b[0;32mdef\u001b[0m \u001b[0mapplymap\u001b[0m\u001b[0;34m(\u001b[0m\u001b[0mself\u001b[0m\u001b[0;34m,\u001b[0m \u001b[0mfunc\u001b[0m\u001b[0;34m)\u001b[0m \u001b[0;34m->\u001b[0m \u001b[0;34m\"DataFrame\"\u001b[0m\u001b[0;34m:\u001b[0m\u001b[0;34m\u001b[0m\u001b[0;34m\u001b[0m\u001b[0m\n",
      "\u001b[0;32m/opt/anaconda3/lib/python3.7/site-packages/pandas/core/apply.py\u001b[0m in \u001b[0;36mget_result\u001b[0;34m(self)\u001b[0m\n\u001b[1;32m    183\u001b[0m             \u001b[0;32mreturn\u001b[0m \u001b[0mself\u001b[0m\u001b[0;34m.\u001b[0m\u001b[0mapply_raw\u001b[0m\u001b[0;34m(\u001b[0m\u001b[0;34m)\u001b[0m\u001b[0;34m\u001b[0m\u001b[0;34m\u001b[0m\u001b[0m\n\u001b[1;32m    184\u001b[0m \u001b[0;34m\u001b[0m\u001b[0m\n\u001b[0;32m--> 185\u001b[0;31m         \u001b[0;32mreturn\u001b[0m \u001b[0mself\u001b[0m\u001b[0;34m.\u001b[0m\u001b[0mapply_standard\u001b[0m\u001b[0;34m(\u001b[0m\u001b[0;34m)\u001b[0m\u001b[0;34m\u001b[0m\u001b[0;34m\u001b[0m\u001b[0m\n\u001b[0m\u001b[1;32m    186\u001b[0m \u001b[0;34m\u001b[0m\u001b[0m\n\u001b[1;32m    187\u001b[0m     \u001b[0;32mdef\u001b[0m \u001b[0mapply_empty_result\u001b[0m\u001b[0;34m(\u001b[0m\u001b[0mself\u001b[0m\u001b[0;34m)\u001b[0m\u001b[0;34m:\u001b[0m\u001b[0;34m\u001b[0m\u001b[0;34m\u001b[0m\u001b[0m\n",
      "\u001b[0;32m/opt/anaconda3/lib/python3.7/site-packages/pandas/core/apply.py\u001b[0m in \u001b[0;36mapply_standard\u001b[0;34m(self)\u001b[0m\n\u001b[1;32m    274\u001b[0m \u001b[0;34m\u001b[0m\u001b[0m\n\u001b[1;32m    275\u001b[0m     \u001b[0;32mdef\u001b[0m \u001b[0mapply_standard\u001b[0m\u001b[0;34m(\u001b[0m\u001b[0mself\u001b[0m\u001b[0;34m)\u001b[0m\u001b[0;34m:\u001b[0m\u001b[0;34m\u001b[0m\u001b[0;34m\u001b[0m\u001b[0m\n\u001b[0;32m--> 276\u001b[0;31m         \u001b[0mresults\u001b[0m\u001b[0;34m,\u001b[0m \u001b[0mres_index\u001b[0m \u001b[0;34m=\u001b[0m \u001b[0mself\u001b[0m\u001b[0;34m.\u001b[0m\u001b[0mapply_series_generator\u001b[0m\u001b[0;34m(\u001b[0m\u001b[0;34m)\u001b[0m\u001b[0;34m\u001b[0m\u001b[0;34m\u001b[0m\u001b[0m\n\u001b[0m\u001b[1;32m    277\u001b[0m \u001b[0;34m\u001b[0m\u001b[0m\n\u001b[1;32m    278\u001b[0m         \u001b[0;31m# wrap results\u001b[0m\u001b[0;34m\u001b[0m\u001b[0;34m\u001b[0m\u001b[0;34m\u001b[0m\u001b[0m\n",
      "\u001b[0;32m/opt/anaconda3/lib/python3.7/site-packages/pandas/core/apply.py\u001b[0m in \u001b[0;36mapply_series_generator\u001b[0;34m(self)\u001b[0m\n\u001b[1;32m    303\u001b[0m                 \u001b[0;32mfor\u001b[0m \u001b[0mi\u001b[0m\u001b[0;34m,\u001b[0m \u001b[0mv\u001b[0m \u001b[0;32min\u001b[0m \u001b[0menumerate\u001b[0m\u001b[0;34m(\u001b[0m\u001b[0mseries_gen\u001b[0m\u001b[0;34m)\u001b[0m\u001b[0;34m:\u001b[0m\u001b[0;34m\u001b[0m\u001b[0;34m\u001b[0m\u001b[0m\n\u001b[1;32m    304\u001b[0m                     \u001b[0;31m# ignore SettingWithCopy here in case the user mutates\u001b[0m\u001b[0;34m\u001b[0m\u001b[0;34m\u001b[0m\u001b[0;34m\u001b[0m\u001b[0m\n\u001b[0;32m--> 305\u001b[0;31m                     \u001b[0mresults\u001b[0m\u001b[0;34m[\u001b[0m\u001b[0mi\u001b[0m\u001b[0;34m]\u001b[0m \u001b[0;34m=\u001b[0m \u001b[0mself\u001b[0m\u001b[0;34m.\u001b[0m\u001b[0mf\u001b[0m\u001b[0;34m(\u001b[0m\u001b[0mv\u001b[0m\u001b[0;34m)\u001b[0m\u001b[0;34m\u001b[0m\u001b[0;34m\u001b[0m\u001b[0m\n\u001b[0m\u001b[1;32m    306\u001b[0m                     \u001b[0;32mif\u001b[0m \u001b[0misinstance\u001b[0m\u001b[0;34m(\u001b[0m\u001b[0mresults\u001b[0m\u001b[0;34m[\u001b[0m\u001b[0mi\u001b[0m\u001b[0;34m]\u001b[0m\u001b[0;34m,\u001b[0m \u001b[0mABCSeries\u001b[0m\u001b[0;34m)\u001b[0m\u001b[0;34m:\u001b[0m\u001b[0;34m\u001b[0m\u001b[0;34m\u001b[0m\u001b[0m\n\u001b[1;32m    307\u001b[0m                         \u001b[0;31m# If we have a view on v, we need to make a copy because\u001b[0m\u001b[0;34m\u001b[0m\u001b[0;34m\u001b[0m\u001b[0;34m\u001b[0m\u001b[0m\n",
      "\u001b[0;32m<ipython-input-738-4f45260dbfaa>\u001b[0m in \u001b[0;36m<lambda>\u001b[0;34m(x)\u001b[0m\n\u001b[1;32m     11\u001b[0m     \u001b[0mprint\u001b[0m\u001b[0;34m(\u001b[0m\u001b[0mtoken\u001b[0m\u001b[0;34m)\u001b[0m\u001b[0;34m\u001b[0m\u001b[0;34m\u001b[0m\u001b[0m\n\u001b[1;32m     12\u001b[0m     train_all['jaccard_similarity_nouns'] = train_all.apply(lambda x: jaccard_similarity_opt(x.headline_ents_t, \n\u001b[0;32m---> 13\u001b[0;31m                                                                                      x.body_ents, token), axis=1)\n\u001b[0m\u001b[1;32m     14\u001b[0m     \u001b[0mtrain_all\u001b[0m\u001b[0;34m.\u001b[0m\u001b[0mloc\u001b[0m\u001b[0;34m[\u001b[0m\u001b[0mtrain_all\u001b[0m\u001b[0;34m.\u001b[0m\u001b[0mjaccard_similarity_nouns\u001b[0m \u001b[0;34m>\u001b[0m \u001b[0;36m0.03184318914993509\u001b[0m\u001b[0;34m,\u001b[0m \u001b[0;34m'pred'\u001b[0m\u001b[0;34m]\u001b[0m \u001b[0;34m=\u001b[0m \u001b[0;34m'related'\u001b[0m\u001b[0;34m\u001b[0m\u001b[0;34m\u001b[0m\u001b[0m\n\u001b[1;32m     15\u001b[0m     \u001b[0;32mreturn\u001b[0m \u001b[0;34m-\u001b[0m\u001b[0maccuracy_score\u001b[0m\u001b[0;34m(\u001b[0m\u001b[0mtrain_all\u001b[0m\u001b[0;34m.\u001b[0m\u001b[0mtarget_stage1\u001b[0m\u001b[0;34m,\u001b[0m \u001b[0mtrain_all\u001b[0m\u001b[0;34m.\u001b[0m\u001b[0mpred\u001b[0m\u001b[0;34m)\u001b[0m\u001b[0;34m\u001b[0m\u001b[0;34m\u001b[0m\u001b[0m\n",
      "\u001b[0;32m<ipython-input-738-4f45260dbfaa>\u001b[0m in \u001b[0;36mjaccard_similarity_opt\u001b[0;34m(query, document, token)\u001b[0m\n\u001b[1;32m      2\u001b[0m     \u001b[0mtoken\u001b[0m \u001b[0;34m=\u001b[0m \u001b[0mint\u001b[0m\u001b[0;34m(\u001b[0m\u001b[0mnp\u001b[0m\u001b[0;34m.\u001b[0m\u001b[0mceil\u001b[0m\u001b[0;34m(\u001b[0m\u001b[0mtoken\u001b[0m\u001b[0;34m)\u001b[0m\u001b[0;34m)\u001b[0m\u001b[0;34m\u001b[0m\u001b[0;34m\u001b[0m\u001b[0m\n\u001b[1;32m      3\u001b[0m     \u001b[0mintersection\u001b[0m \u001b[0;34m=\u001b[0m \u001b[0mset\u001b[0m\u001b[0;34m(\u001b[0m\u001b[0mquery\u001b[0m\u001b[0;34m)\u001b[0m\u001b[0;34m.\u001b[0m\u001b[0mintersection\u001b[0m\u001b[0;34m(\u001b[0m\u001b[0mset\u001b[0m\u001b[0;34m(\u001b[0m\u001b[0mdocument\u001b[0m\u001b[0;34m[\u001b[0m\u001b[0;34m:\u001b[0m\u001b[0mtoken\u001b[0m\u001b[0;34m]\u001b[0m\u001b[0;34m)\u001b[0m\u001b[0;34m)\u001b[0m\u001b[0;34m\u001b[0m\u001b[0;34m\u001b[0m\u001b[0m\n\u001b[0;32m----> 4\u001b[0;31m     \u001b[0munion\u001b[0m \u001b[0;34m=\u001b[0m \u001b[0mset\u001b[0m\u001b[0;34m(\u001b[0m\u001b[0mquery\u001b[0m\u001b[0;34m)\u001b[0m\u001b[0;34m.\u001b[0m\u001b[0munion\u001b[0m\u001b[0;34m(\u001b[0m\u001b[0mset\u001b[0m\u001b[0;34m(\u001b[0m\u001b[0mdocument\u001b[0m\u001b[0;34m[\u001b[0m\u001b[0;34m:\u001b[0m\u001b[0mtoken\u001b[0m\u001b[0;34m]\u001b[0m\u001b[0;34m)\u001b[0m\u001b[0;34m)\u001b[0m\u001b[0;34m\u001b[0m\u001b[0;34m\u001b[0m\u001b[0m\n\u001b[0m\u001b[1;32m      5\u001b[0m     \u001b[0;32mif\u001b[0m \u001b[0mlen\u001b[0m\u001b[0;34m(\u001b[0m\u001b[0munion\u001b[0m\u001b[0;34m)\u001b[0m \u001b[0;34m==\u001b[0m \u001b[0;36m0\u001b[0m\u001b[0;34m:\u001b[0m\u001b[0;34m\u001b[0m\u001b[0;34m\u001b[0m\u001b[0m\n\u001b[1;32m      6\u001b[0m         \u001b[0;32mreturn\u001b[0m \u001b[0mlen\u001b[0m\u001b[0;34m(\u001b[0m\u001b[0mintersection\u001b[0m\u001b[0;34m)\u001b[0m\u001b[0;34m/\u001b[0m\u001b[0;34m(\u001b[0m\u001b[0mlen\u001b[0m\u001b[0;34m(\u001b[0m\u001b[0munion\u001b[0m\u001b[0;34m)\u001b[0m \u001b[0;34m+\u001b[0m \u001b[0;36m1\u001b[0m\u001b[0;34m)\u001b[0m\u001b[0;34m\u001b[0m\u001b[0;34m\u001b[0m\u001b[0m\n",
      "\u001b[0;31mKeyboardInterrupt\u001b[0m: "
     ]
    }
   ],
   "source": [
    "def jaccard_similarity_opt(query, document,token):\n",
    "    token = int(np.ceil(token))\n",
    "    intersection = set(query).intersection(set(document[:token]))\n",
    "    union = set(query).union(set(document[:token]))\n",
    "    if len(union) == 0: \n",
    "        return len(intersection)/(len(union) + 1)\n",
    "    else: \n",
    "        return len(intersection)/(len(union))\n",
    "\n",
    "def objective(token):\n",
    "    print(token)\n",
    "    train_all['jaccard_similarity_nouns'] = train_all.apply(lambda x: jaccard_similarity_opt(x.headline_ents_t, \n",
    "                                                                                     x.body_ents, token), axis=1)\n",
    "    train_all.loc[train_all.jaccard_similarity_nouns > 0.03184318914993509, 'pred'] = 'related'\n",
    "    return -accuracy_score(train_all.target_stage1, train_all.pred)\n",
    "\n",
    "minimize_scalar(objective,bounds=[30,150],method='Bounded')"
   ]
  },
  {
   "cell_type": "code",
   "execution_count": 742,
   "metadata": {},
   "outputs": [],
   "source": [
    "import numpy as np\n",
    "def classification_interpretation(y_pred, y_actual): \n",
    "    cf_matrix = confusion_matrix(y_actual, y_pred)\n",
    "    group_names = ['True Neg','False Pos','False Neg','True Pos']\n",
    "    group_counts = [\"{0:0.0f}\".format(value) for value in\n",
    "                    cf_matrix.flatten()]\n",
    "    group_percentages = [\"{0:.2%}\".format(value) for value in\n",
    "                         cf_matrix.flatten()/np.sum(cf_matrix)]\n",
    "    labels = [f\"{v1}\\n{v2}\\n{v3}\" for v1, v2, v3 in\n",
    "              zip(group_names,group_counts,group_percentages)]\n",
    "    labels = np.asarray(labels).reshape(2,2)\n",
    "    sns.heatmap(cf_matrix, annot=labels, fmt='', cmap='BuGn',  linewidths=10)\n"
   ]
  },
  {
   "cell_type": "code",
   "execution_count": 743,
   "metadata": {},
   "outputs": [
    {
     "name": "stdout",
     "output_type": "stream",
     "text": [
      "              precision    recall  f1-score   support\n",
      "\n",
      "     related       0.27      1.00      0.42     13401\n",
      "   unrelated       0.00      0.00      0.00     36508\n",
      "\n",
      "    accuracy                           0.27     49909\n",
      "   macro avg       0.13      0.50      0.21     49909\n",
      "weighted avg       0.07      0.27      0.11     49909\n",
      "\n"
     ]
    },
    {
     "data": {
      "image/png": "[encoded data removed]",
      "text/plain": [
       "<Figure size 432x288 with 2 Axes>"
      ]
     },
     "metadata": {
      "needs_background": "light"
     },
     "output_type": "display_data"
    }
   ],
   "source": [
    "train_all['pred'] ='unrelated'\n",
    "train_all.loc[train_all.jaccard_similarity_nouns > 0.03184318914993509, 'pred'] = 'related'\n",
    "\n",
    "\n",
    "cf_matrix = confusion_matrix(train_all.target_stage1, train_all.pred)\n",
    "classification_interpretation(train_all.pred, train_all.target_stage1)\n",
    "\n",
    "from sklearn.metrics import classification_report\n",
    "target_names = ['related', 'unrelated']\n",
    "print(classification_report(train_all.target_stage1, train_all.pred, target_names=target_names))"
   ]
  },
  {
   "cell_type": "code",
   "execution_count": 710,
   "metadata": {},
   "outputs": [],
   "source": [
    "from sklearn.metrics import recall_score"
   ]
  },
  {
   "cell_type": "code",
   "execution_count": 712,
   "metadata": {},
   "outputs": [],
   "source": [
    "mapper = {'unrelated':1,'related':0}"
   ]
  },
  {
   "cell_type": "code",
   "execution_count": 714,
   "metadata": {},
   "outputs": [
    {
     "data": {
      "text/plain": [
       "0.9857883989182626"
      ]
     },
     "execution_count": 714,
     "metadata": {},
     "output_type": "execute_result"
    }
   ],
   "source": [
    "recall_score( train_all.pred.map(mapper), train_all.target_stage1.map(mapper))"
   ]
  },
  {
   "cell_type": "code",
   "execution_count": 731,
   "metadata": {
    "scrolled": false
   },
   "outputs": [],
   "source": [
    "wrong = train_all.loc[train_all.target_stage1 != train_all.pred]"
   ]
  },
  {
   "cell_type": "code",
   "execution_count": 659,
   "metadata": {},
   "outputs": [
    {
     "data": {
      "image/png": "[encoded data removed]",
      "text/plain": [
       "<Figure size 432x288 with 1 Axes>"
      ]
     },
     "metadata": {
      "needs_background": "light"
     },
     "output_type": "display_data"
    }
   ],
   "source": [
    "import seaborn as sns \n",
    "import matplotlib.pyplot as plt\n",
    "sns.histplot(wrong, x=\"jaccard_similarity_nouns\", hue=\"target_stage1\", common_norm=True)\n",
    "plt.vlines(0.03, ymin =0,ymax=700,color='red')\n",
    "plt.xlim(0, .05)\n",
    "plt.show() "
   ]
  },
  {
   "cell_type": "code",
   "execution_count": 670,
   "metadata": {},
   "outputs": [
    {
     "data": {
      "text/html": [
       "<div>\n",
       "<style scoped>\n",
       "    .dataframe tbody tr th:only-of-type {\n",
       "        vertical-align: middle;\n",
       "    }\n",
       "\n",
       "    .dataframe tbody tr th {\n",
       "        vertical-align: top;\n",
       "    }\n",
       "\n",
       "    .dataframe thead th {\n",
       "        text-align: right;\n",
       "    }\n",
       "</style>\n",
       "<table border=\"1\" class=\"dataframe\">\n",
       "  <thead>\n",
       "    <tr style=\"text-align: right;\">\n",
       "      <th></th>\n",
       "      <th>headline_ents</th>\n",
       "    </tr>\n",
       "    <tr>\n",
       "      <th>Headline</th>\n",
       "      <th></th>\n",
       "    </tr>\n",
       "  </thead>\n",
       "  <tbody>\n",
       "    <tr>\n",
       "      <th>Don't forget to tip...especially if you spend $300,000</th>\n",
       "      <td>0</td>\n",
       "    </tr>\n",
       "    <tr>\n",
       "      <th>\"Categorically False\": DHS Debunks Right-Wing Fiction That ISIS Attempted To Cross The U.S.- Mexico Border</th>\n",
       "      <td>1</td>\n",
       "    </tr>\n",
       "    <tr>\n",
       "      <th>Mystery woman behind the 'richest hands on the internet' revealed: Former pornstar 'makes $5m a year unwrapping Disney toys on YouTube'</th>\n",
       "      <td>1</td>\n",
       "    </tr>\n",
       "    <tr>\n",
       "      <th>Mum Offers to Sell Twin Boy to Save Twin Girl</th>\n",
       "      <td>1</td>\n",
       "    </tr>\n",
       "    <tr>\n",
       "      <th>Moment U.S. Marine is saved by his Kevlar helmet as Taliban sniper bullet hits him in head</th>\n",
       "      <td>1</td>\n",
       "    </tr>\n",
       "    <tr>\n",
       "      <th>...</th>\n",
       "      <td>...</td>\n",
       "    </tr>\n",
       "    <tr>\n",
       "      <th>Obama, Outraged Over Beheading, Vows to Stay on Course</th>\n",
       "      <td>16</td>\n",
       "    </tr>\n",
       "    <tr>\n",
       "      <th>Jeh Johnson: Politicians Shouldn't 'Feed The Flames Of Fear' Over ISIS, Ebola</th>\n",
       "      <td>17</td>\n",
       "    </tr>\n",
       "    <tr>\n",
       "      <th>ISIL Beheads American Photojournalist in Iraq</th>\n",
       "      <td>18</td>\n",
       "    </tr>\n",
       "    <tr>\n",
       "      <th>Bali Awry</th>\n",
       "      <td>18</td>\n",
       "    </tr>\n",
       "    <tr>\n",
       "      <th>Missing American journalist reportedly beheaded by Islamic State</th>\n",
       "      <td>20</td>\n",
       "    </tr>\n",
       "  </tbody>\n",
       "</table>\n",
       "<p>813 rows × 1 columns</p>\n",
       "</div>"
      ],
      "text/plain": [
       "                                                    headline_ents\n",
       "Headline                                                         \n",
       "Don't forget to tip...especially if you spend $...              0\n",
       "\"Categorically False\": DHS Debunks Right-Wing F...              1\n",
       "Mystery woman behind the 'richest hands on the ...              1\n",
       "Mum Offers to Sell Twin Boy to Save Twin Girl                   1\n",
       "Moment U.S. Marine is saved by his Kevlar helme...              1\n",
       "...                                                           ...\n",
       "Obama, Outraged Over Beheading, Vows to Stay on...             16\n",
       "Jeh Johnson: Politicians Shouldn't 'Feed The Fl...             17\n",
       "ISIL Beheads American Photojournalist in Iraq                  18\n",
       "Bali Awry                                                      18\n",
       "Missing American journalist reportedly beheaded...             20\n",
       "\n",
       "[813 rows x 1 columns]"
      ]
     },
     "execution_count": 670,
     "metadata": {},
     "output_type": "execute_result"
    }
   ],
   "source": [
    "wrong.groupby('Headline').count().sort_values('headline_ents')[['headline_ents']]"
   ]
  },
  {
   "cell_type": "code",
   "execution_count": 675,
   "metadata": {},
   "outputs": [],
   "source": [
    "wrong_isis = wrong.loc[wrong.Headline == 'Missing American journalist reportedly beheaded by Islamic State ']"
   ]
  },
  {
   "cell_type": "code",
   "execution_count": 724,
   "metadata": {},
   "outputs": [],
   "source": [
    "import nltk\n",
    "# function for stemming\n",
    "def get_stem(text):\n",
    "    stemmer = nltk.porter.PorterStemmer()\n",
    "    text = ' '.join([stemmer.stem(word) for word in text.split()])\n",
    "    return text"
   ]
  },
  {
   "cell_type": "code",
   "execution_count": 681,
   "metadata": {},
   "outputs": [
    {
     "data": {
      "text/plain": [
       "Index(['Unnamed: 0', 'Headline', 'headline_ents', 'articleBody', 'body_ents',\n",
       "       'target_stage1', 'target_stage2', 'jaccard_similarity_nouns', 'pred',\n",
       "       'headline_ents_t', 'body_ents_str', 'body_ents_nsw',\n",
       "       'headline_ents_nsw', 'len_headline', 'len_body', 'total_len',\n",
       "       'len_body_ents', 'stem_headline'],\n",
       "      dtype='object')"
      ]
     },
     "execution_count": 681,
     "metadata": {},
     "output_type": "execute_result"
    }
   ],
   "source": [
    "wrong_isis.columns"
   ]
  },
  {
   "cell_type": "code",
   "execution_count": 696,
   "metadata": {},
   "outputs": [
    {
     "data": {
      "application/vnd.jupyter.widget-view+json": {
       "model_id": "44b336eca8754cf4916c2aad89de64c7",
       "version_major": 2,
       "version_minor": 0
      },
      "text/plain": [
       "HBox(children=(HTML(value='Pandas Apply'), FloatProgress(value=0.0, max=2184.0), HTML(value='')))"
      ]
     },
     "metadata": {},
     "output_type": "display_data"
    },
    {
     "name": "stdout",
     "output_type": "stream",
     "text": [
      "\n"
     ]
    },
    {
     "name": "stderr",
     "output_type": "stream",
     "text": [
      "/opt/anaconda3/lib/python3.7/site-packages/ipykernel_launcher.py:1: SettingWithCopyWarning: \n",
      "A value is trying to be set on a copy of a slice from a DataFrame.\n",
      "Try using .loc[row_indexer,col_indexer] = value instead\n",
      "\n",
      "See the caveats in the documentation: https://pandas.pydata.org/pandas-docs/stable/user_guide/indexing.html#returning-a-view-versus-a-copy\n",
      "  \"\"\"Entry point for launching an IPython kernel.\n"
     ]
    },
    {
     "data": {
      "application/vnd.jupyter.widget-view+json": {
       "model_id": "8a6952ede7e443c1b1146f370f51273a",
       "version_major": 2,
       "version_minor": 0
      },
      "text/plain": [
       "HBox(children=(HTML(value='Pandas Apply'), FloatProgress(value=0.0, max=2184.0), HTML(value='')))"
      ]
     },
     "metadata": {},
     "output_type": "display_data"
    },
    {
     "name": "stdout",
     "output_type": "stream",
     "text": [
      "\n"
     ]
    },
    {
     "name": "stderr",
     "output_type": "stream",
     "text": [
      "/opt/anaconda3/lib/python3.7/site-packages/ipykernel_launcher.py:2: SettingWithCopyWarning: \n",
      "A value is trying to be set on a copy of a slice from a DataFrame.\n",
      "Try using .loc[row_indexer,col_indexer] = value instead\n",
      "\n",
      "See the caveats in the documentation: https://pandas.pydata.org/pandas-docs/stable/user_guide/indexing.html#returning-a-view-versus-a-copy\n",
      "  \n"
     ]
    }
   ],
   "source": [
    "wrong['stem_body'] = wrong.articleBody.swifter.apply(get_stem)\n",
    "wrong['stem_body_ents'] = wrong['stem_body'].swifter.apply(noun_tag)"
   ]
  },
  {
   "cell_type": "code",
   "execution_count": 697,
   "metadata": {},
   "outputs": [
    {
     "data": {
      "application/vnd.jupyter.widget-view+json": {
       "model_id": "dc99997c45d64e71bc29eb58a65537d2",
       "version_major": 2,
       "version_minor": 0
      },
      "text/plain": [
       "HBox(children=(HTML(value='Pandas Apply'), FloatProgress(value=0.0, max=2184.0), HTML(value='')))"
      ]
     },
     "metadata": {},
     "output_type": "display_data"
    },
    {
     "name": "stdout",
     "output_type": "stream",
     "text": [
      "\n"
     ]
    },
    {
     "name": "stderr",
     "output_type": "stream",
     "text": [
      "/opt/anaconda3/lib/python3.7/site-packages/ipykernel_launcher.py:1: SettingWithCopyWarning: \n",
      "A value is trying to be set on a copy of a slice from a DataFrame.\n",
      "Try using .loc[row_indexer,col_indexer] = value instead\n",
      "\n",
      "See the caveats in the documentation: https://pandas.pydata.org/pandas-docs/stable/user_guide/indexing.html#returning-a-view-versus-a-copy\n",
      "  \"\"\"Entry point for launching an IPython kernel.\n"
     ]
    },
    {
     "data": {
      "application/vnd.jupyter.widget-view+json": {
       "model_id": "34ad6921429d4c7ea44f3ba09344d491",
       "version_major": 2,
       "version_minor": 0
      },
      "text/plain": [
       "HBox(children=(HTML(value='Pandas Apply'), FloatProgress(value=0.0, max=2184.0), HTML(value='')))"
      ]
     },
     "metadata": {},
     "output_type": "display_data"
    },
    {
     "name": "stdout",
     "output_type": "stream",
     "text": [
      "\n"
     ]
    },
    {
     "name": "stderr",
     "output_type": "stream",
     "text": [
      "/opt/anaconda3/lib/python3.7/site-packages/ipykernel_launcher.py:2: SettingWithCopyWarning: \n",
      "A value is trying to be set on a copy of a slice from a DataFrame.\n",
      "Try using .loc[row_indexer,col_indexer] = value instead\n",
      "\n",
      "See the caveats in the documentation: https://pandas.pydata.org/pandas-docs/stable/user_guide/indexing.html#returning-a-view-versus-a-copy\n",
      "  \n"
     ]
    }
   ],
   "source": [
    "wrong['stem_headline'] = wrong.Headline.swifter.apply(get_stem)\n",
    "wrong['stem_headline_ents'] = wrong['stem_headline'].swifter.apply(noun_tag)"
   ]
  },
  {
   "cell_type": "code",
   "execution_count": 698,
   "metadata": {},
   "outputs": [
    {
     "name": "stderr",
     "output_type": "stream",
     "text": [
      "/opt/anaconda3/lib/python3.7/site-packages/ipykernel_launcher.py:2: SettingWithCopyWarning: \n",
      "A value is trying to be set on a copy of a slice from a DataFrame.\n",
      "Try using .loc[row_indexer,col_indexer] = value instead\n",
      "\n",
      "See the caveats in the documentation: https://pandas.pydata.org/pandas-docs/stable/user_guide/indexing.html#returning-a-view-versus-a-copy\n",
      "  \n"
     ]
    }
   ],
   "source": [
    "wrong['jaccard_similarity_nouns_stem'] = wrong.apply(lambda x: jaccard_similarity(x.stem_headline_ents, \n",
    "                                                                                     x.stem_body_ents), axis=1)"
   ]
  },
  {
   "cell_type": "code",
   "execution_count": 701,
   "metadata": {},
   "outputs": [
    {
     "name": "stderr",
     "output_type": "stream",
     "text": [
      "/opt/anaconda3/lib/python3.7/site-packages/ipykernel_launcher.py:1: SettingWithCopyWarning: \n",
      "A value is trying to be set on a copy of a slice from a DataFrame.\n",
      "Try using .loc[row_indexer,col_indexer] = value instead\n",
      "\n",
      "See the caveats in the documentation: https://pandas.pydata.org/pandas-docs/stable/user_guide/indexing.html#returning-a-view-versus-a-copy\n",
      "  \"\"\"Entry point for launching an IPython kernel.\n",
      "/opt/anaconda3/lib/python3.7/site-packages/pandas/core/indexing.py:1763: SettingWithCopyWarning: \n",
      "A value is trying to be set on a copy of a slice from a DataFrame.\n",
      "Try using .loc[row_indexer,col_indexer] = value instead\n",
      "\n",
      "See the caveats in the documentation: https://pandas.pydata.org/pandas-docs/stable/user_guide/indexing.html#returning-a-view-versus-a-copy\n",
      "  isetter(loc, value)\n"
     ]
    }
   ],
   "source": [
    "wrong['pred_stem'] ='unrelated'\n",
    "wrong.loc[wrong.jaccard_similarity_nouns_stem > 0.03184318914993509, 'pred_stem'] = 'related'"
   ]
  },
  {
   "cell_type": "code",
   "execution_count": 702,
   "metadata": {},
   "outputs": [
    {
     "name": "stdout",
     "output_type": "stream",
     "text": [
      "              precision    recall  f1-score   support\n",
      "\n",
      "     related       0.34      0.44      0.38       915\n",
      "   unrelated       0.48      0.38      0.43      1269\n",
      "\n",
      "    accuracy                           0.40      2184\n",
      "   macro avg       0.41      0.41      0.40      2184\n",
      "weighted avg       0.42      0.40      0.41      2184\n",
      "\n"
     ]
    },
    {
     "data": {
      "image/png": "[encoded data removed]",
      "text/plain": [
       "<Figure size 432x288 with 2 Axes>"
      ]
     },
     "metadata": {
      "needs_background": "light"
     },
     "output_type": "display_data"
    }
   ],
   "source": [
    "cf_matrix = confusion_matrix(wrong.target_stage1, wrong.pred_stem)\n",
    "classification_interpretation(wrong.pred_stem, wrong.target_stage1)\n",
    "\n",
    "from sklearn.metrics import classification_report\n",
    "target_names = ['related', 'unrelated']\n",
    "print(classification_report(wrong.target_stage1, wrong.pred_stem, target_names=target_names))"
   ]
  },
  {
   "cell_type": "code",
   "execution_count": 704,
   "metadata": {},
   "outputs": [],
   "source": [
    "train_all.loc[wrong.index,\"pred\"] = wrong.pred_stem"
   ]
  },
  {
   "cell_type": "markdown",
   "metadata": {},
   "source": [
    "#### Pipeline Improvement: Lang Detect"
   ]
  },
  {
   "cell_type": "markdown",
   "metadata": {},
   "source": [
    "language detection outside the scope of this project. Let's remove non-english examples from the set. "
   ]
  },
  {
   "cell_type": "code",
   "execution_count": 630,
   "metadata": {},
   "outputs": [
    {
     "name": "stdout",
     "output_type": "stream",
     "text": [
      "Requirement already satisfied: langdetect in /opt/anaconda3/lib/python3.7/site-packages (1.0.9)\r\n",
      "Requirement already satisfied: six in /opt/anaconda3/lib/python3.7/site-packages (from langdetect) (1.15.0)\r\n"
     ]
    }
   ],
   "source": [
    "!pip install langdetect"
   ]
  },
  {
   "cell_type": "code",
   "execution_count": 645,
   "metadata": {},
   "outputs": [],
   "source": [
    "from langdetect import detect\n",
    "def detect_lang(txt):\n",
    "    # look at first 3 words\n",
    "    #txt = txt.split()[:3]\n",
    "    return detect(txt)"
   ]
  },
  {
   "cell_type": "code",
   "execution_count": 646,
   "metadata": {},
   "outputs": [
    {
     "data": {
      "application/vnd.jupyter.widget-view+json": {
       "model_id": "8b9fe329f355423fb8f0e078c9a483ca",
       "version_major": 2,
       "version_minor": 0
      },
      "text/plain": [
       "HBox(children=(HTML(value='Pandas Apply'), FloatProgress(value=0.0, max=1683.0), HTML(value='')))"
      ]
     },
     "metadata": {},
     "output_type": "display_data"
    },
    {
     "name": "stdout",
     "output_type": "stream",
     "text": [
      "\n"
     ]
    }
   ],
   "source": [
    "train_bodies['language'] = train_bodies.articleBody.swifter.apply(detect_lang)"
   ]
  },
  {
   "cell_type": "code",
   "execution_count": 647,
   "metadata": {},
   "outputs": [
    {
     "data": {
      "text/html": [
       "<div>\n",
       "<style scoped>\n",
       "    .dataframe tbody tr th:only-of-type {\n",
       "        vertical-align: middle;\n",
       "    }\n",
       "\n",
       "    .dataframe tbody tr th {\n",
       "        vertical-align: top;\n",
       "    }\n",
       "\n",
       "    .dataframe thead th {\n",
       "        text-align: right;\n",
       "    }\n",
       "</style>\n",
       "<table border=\"1\" class=\"dataframe\">\n",
       "  <thead>\n",
       "    <tr style=\"text-align: right;\">\n",
       "      <th></th>\n",
       "      <th>Headline</th>\n",
       "      <th>headline_ents</th>\n",
       "      <th>articleBody</th>\n",
       "      <th>body_ents</th>\n",
       "      <th>language</th>\n",
       "      <th>target_stage1</th>\n",
       "      <th>target_stage2</th>\n",
       "    </tr>\n",
       "  </thead>\n",
       "  <tbody>\n",
       "    <tr>\n",
       "      <th>9056</th>\n",
       "      <td>“Willie Nelson dead 2015” : Guitarist killed b...</td>\n",
       "      <td>willie nelson guitarist internet death hoax</td>\n",
       "      <td>News of guitarist Willie Nelson’s death spread...</td>\n",
       "      <td>[news, guitarist, willie, nelson, death, early...</td>\n",
       "      <td>en</td>\n",
       "      <td>related</td>\n",
       "      <td>agree</td>\n",
       "    </tr>\n",
       "    <tr>\n",
       "      <th>9137</th>\n",
       "      <td>Daash Ebola transferred to Mosul {Google Trans...</td>\n",
       "      <td>daash ebola mosul google</td>\n",
       "      <td>Two Aussie mates had to be talked out of the g...</td>\n",
       "      <td>[aussie, mate, honour, world, burger, adelaide...</td>\n",
       "      <td>en</td>\n",
       "      <td>unrelated</td>\n",
       "      <td>None</td>\n",
       "    </tr>\n",
       "    <tr>\n",
       "      <th>18461</th>\n",
       "      <td>Saudi fatwa banning snowmen triggers heated de...</td>\n",
       "      <td>fatwa snowman debate</td>\n",
       "      <td>Video: Users of the new iPhone 6 are saying th...</td>\n",
       "      <td>[video, user, iphone, hair, catch, screen, pho...</td>\n",
       "      <td>en</td>\n",
       "      <td>unrelated</td>\n",
       "      <td>None</td>\n",
       "    </tr>\n",
       "    <tr>\n",
       "      <th>37878</th>\n",
       "      <td>Has North Korean dictator Kim Jong-un been rep...</td>\n",
       "      <td>dictator kim jong un sister</td>\n",
       "      <td>After Stan Beaton's wife, Ruby, passed away in...</td>\n",
       "      <td>[stan, beaton, wife, ruby, 2003, save, leave, ...</td>\n",
       "      <td>en</td>\n",
       "      <td>unrelated</td>\n",
       "      <td>None</td>\n",
       "    </tr>\n",
       "    <tr>\n",
       "      <th>39294</th>\n",
       "      <td>US officials: Video shows American's execution</td>\n",
       "      <td>official video american execution</td>\n",
       "      <td>Google has bought about half of Pacific Shores...</td>\n",
       "      <td>[google, pacific, shores, office, park]</td>\n",
       "      <td>en</td>\n",
       "      <td>unrelated</td>\n",
       "      <td>None</td>\n",
       "    </tr>\n",
       "    <tr>\n",
       "      <th>5192</th>\n",
       "      <td>Nigeria: hopes for return of kidnapped schoolg...</td>\n",
       "      <td>nigeria hope return schoolgirl ceasefire</td>\n",
       "      <td>The 45 year old Mexican/American, born in De l...</td>\n",
       "      <td>[45, year, old, mexican, bear, de, la, cruz, s...</td>\n",
       "      <td>en</td>\n",
       "      <td>unrelated</td>\n",
       "      <td>None</td>\n",
       "    </tr>\n",
       "    <tr>\n",
       "      <th>21749</th>\n",
       "      <td>Tropical spider burrowed under Bali tourist's ...</td>\n",
       "      <td>spider bali tourist skin</td>\n",
       "      <td>Axl Rose is not dead, despite internet reports...</td>\n",
       "      <td>[axl, rose, internet, report, surprise, fan, s...</td>\n",
       "      <td>en</td>\n",
       "      <td>unrelated</td>\n",
       "      <td>None</td>\n",
       "    </tr>\n",
       "    <tr>\n",
       "      <th>2396</th>\n",
       "      <td>Report: Nearly a Dozen Commercial Airliners Mi...</td>\n",
       "      <td>report dozen commercial airliner anniversary i...</td>\n",
       "      <td>The Apple Watch was unveiled alongside the iPh...</td>\n",
       "      <td>[apple, watch, iphone, 6, iphone, september, 9...</td>\n",
       "      <td>en</td>\n",
       "      <td>unrelated</td>\n",
       "      <td>None</td>\n",
       "    </tr>\n",
       "    <tr>\n",
       "      <th>442</th>\n",
       "      <td>Will King of Jordan lead airstrikes on ISIS HI...</td>\n",
       "      <td>king jordan airstrike isis report pilot plan a...</td>\n",
       "      <td>An article saying NASA confirmed six days of “...</td>\n",
       "      <td>[article, nasa, day, darkness, december, itera...</td>\n",
       "      <td>en</td>\n",
       "      <td>unrelated</td>\n",
       "      <td>None</td>\n",
       "    </tr>\n",
       "    <tr>\n",
       "      <th>5946</th>\n",
       "      <td>Isis tells mother on rescue mission :’You’ve j...</td>\n",
       "      <td>isis mother rescue mission son</td>\n",
       "      <td>OTTAWA, Nov 30 (Reuters) - Canada is trying to...</td>\n",
       "      <td>[ottawa, nov, 30, reuters, canada, canadian, c...</td>\n",
       "      <td>en</td>\n",
       "      <td>unrelated</td>\n",
       "      <td>None</td>\n",
       "    </tr>\n",
       "  </tbody>\n",
       "</table>\n",
       "</div>"
      ],
      "text/plain": [
       "                                                Headline  \\\n",
       "9056   “Willie Nelson dead 2015” : Guitarist killed b...   \n",
       "9137   Daash Ebola transferred to Mosul {Google Trans...   \n",
       "18461  Saudi fatwa banning snowmen triggers heated de...   \n",
       "37878  Has North Korean dictator Kim Jong-un been rep...   \n",
       "39294     US officials: Video shows American's execution   \n",
       "5192   Nigeria: hopes for return of kidnapped schoolg...   \n",
       "21749  Tropical spider burrowed under Bali tourist's ...   \n",
       "2396   Report: Nearly a Dozen Commercial Airliners Mi...   \n",
       "442    Will King of Jordan lead airstrikes on ISIS HI...   \n",
       "5946   Isis tells mother on rescue mission :’You’ve j...   \n",
       "\n",
       "                                           headline_ents  \\\n",
       "9056         willie nelson guitarist internet death hoax   \n",
       "9137                            daash ebola mosul google   \n",
       "18461                               fatwa snowman debate   \n",
       "37878                        dictator kim jong un sister   \n",
       "39294                  official video american execution   \n",
       "5192            nigeria hope return schoolgirl ceasefire   \n",
       "21749                           spider bali tourist skin   \n",
       "2396   report dozen commercial airliner anniversary i...   \n",
       "442    king jordan airstrike isis report pilot plan a...   \n",
       "5946                      isis mother rescue mission son   \n",
       "\n",
       "                                             articleBody  \\\n",
       "9056   News of guitarist Willie Nelson’s death spread...   \n",
       "9137   Two Aussie mates had to be talked out of the g...   \n",
       "18461  Video: Users of the new iPhone 6 are saying th...   \n",
       "37878  After Stan Beaton's wife, Ruby, passed away in...   \n",
       "39294  Google has bought about half of Pacific Shores...   \n",
       "5192   The 45 year old Mexican/American, born in De l...   \n",
       "21749  Axl Rose is not dead, despite internet reports...   \n",
       "2396   The Apple Watch was unveiled alongside the iPh...   \n",
       "442    An article saying NASA confirmed six days of “...   \n",
       "5946   OTTAWA, Nov 30 (Reuters) - Canada is trying to...   \n",
       "\n",
       "                                               body_ents language  \\\n",
       "9056   [news, guitarist, willie, nelson, death, early...       en   \n",
       "9137   [aussie, mate, honour, world, burger, adelaide...       en   \n",
       "18461  [video, user, iphone, hair, catch, screen, pho...       en   \n",
       "37878  [stan, beaton, wife, ruby, 2003, save, leave, ...       en   \n",
       "39294            [google, pacific, shores, office, park]       en   \n",
       "5192   [45, year, old, mexican, bear, de, la, cruz, s...       en   \n",
       "21749  [axl, rose, internet, report, surprise, fan, s...       en   \n",
       "2396   [apple, watch, iphone, 6, iphone, september, 9...       en   \n",
       "442    [article, nasa, day, darkness, december, itera...       en   \n",
       "5946   [ottawa, nov, 30, reuters, canada, canadian, c...       en   \n",
       "\n",
       "      target_stage1 target_stage2  \n",
       "9056        related         agree  \n",
       "9137      unrelated          None  \n",
       "18461     unrelated          None  \n",
       "37878     unrelated          None  \n",
       "39294     unrelated          None  \n",
       "5192      unrelated          None  \n",
       "21749     unrelated          None  \n",
       "2396      unrelated          None  \n",
       "442       unrelated          None  \n",
       "5946      unrelated          None  "
      ]
     },
     "execution_count": 647,
     "metadata": {},
     "output_type": "execute_result"
    }
   ],
   "source": [
    "train_all = train_headlines.join(train_bodies)\n",
    "train_all['target_stage1'] = ''\n",
    "train_all['target_stage2'] = train_all.Stance\n",
    "train_all.loc[train_all.Stance == 'unrelated', 'target_stage1'] = 'unrelated'\n",
    "train_all.loc[train_all.Stance != 'unrelated', 'target_stage1'] = 'related'\n",
    "train_all.loc[train_all.Stance == 'unrelated', 'target_stage2'] = None\n",
    "train_all.drop('Stance',inplace=True,axis=1)\n",
    "train_all.reset_index(inplace=True,drop=True)\n",
    "train_all.sample(10)"
   ]
  },
  {
   "cell_type": "code",
   "execution_count": 650,
   "metadata": {},
   "outputs": [],
   "source": [
    "bad_lang = train_all.loc[train_all.language!='en'].index"
   ]
  },
  {
   "cell_type": "code",
   "execution_count": 653,
   "metadata": {},
   "outputs": [],
   "source": [
    "df = pd.read_csv('stg1MSCI598_train.csv')\n",
    "train_all = df.drop(bad_lang)"
   ]
  },
  {
   "cell_type": "code",
   "execution_count": 663,
   "metadata": {},
   "outputs": [
    {
     "data": {
      "text/plain": [
       "(49909, 49972)"
      ]
     },
     "execution_count": 663,
     "metadata": {},
     "output_type": "execute_result"
    }
   ],
   "source": [
    "len(train_all), len(df)"
   ]
  },
  {
   "cell_type": "code",
   "execution_count": 734,
   "metadata": {},
   "outputs": [
    {
     "data": {
      "text/plain": [
       "'texa'"
      ]
     },
     "execution_count": 734,
     "metadata": {},
     "output_type": "execute_result"
    }
   ],
   "source": [
    "get_stem('Texas')"
   ]
  },
  {
   "cell_type": "code",
   "execution_count": 719,
   "metadata": {},
   "outputs": [
    {
     "data": {
      "application/vnd.jupyter.widget-view+json": {
       "model_id": "120ef2330bc74c1ab2c199c2bf473b38",
       "version_major": 2,
       "version_minor": 0
      },
      "text/plain": [
       "HBox(children=(HTML(value='Pandas Apply'), FloatProgress(value=0.0, max=5.0), HTML(value='')))"
      ]
     },
     "metadata": {},
     "output_type": "display_data"
    },
    {
     "name": "stdout",
     "output_type": "stream",
     "text": [
      "\n"
     ]
    },
    {
     "data": {
      "text/plain": [
       "11298    [macaulay, culkin, dead, fan, freak, death, ru...\n",
       "45558         [luke, somer, sister, yemen, rescu, attempt]\n",
       "30418         [iphon, appl, watch, samsung, compon, rumor]\n",
       "44195    [report, taliban, detaine, bow, bergdahl, terror]\n",
       "14481    [tourist, spider, man, spider, burrow, skin, day]\n",
       "Name: headline_ents, dtype: object"
      ]
     },
     "execution_count": 719,
     "metadata": {},
     "output_type": "execute_result"
    }
   ],
   "source": [
    "train_all['headline_ents'].sample(5).swifter.apply(get_stem).apply(lambda x: x.split())"
   ]
  },
  {
   "cell_type": "code",
   "execution_count": 725,
   "metadata": {},
   "outputs": [
    {
     "data": {
      "application/vnd.jupyter.widget-view+json": {
       "model_id": "78acdaab3b5646d0b462501a89b2b4ce",
       "version_major": 2,
       "version_minor": 0
      },
      "text/plain": [
       "HBox(children=(HTML(value='Pandas Apply'), FloatProgress(value=0.0, max=49909.0), HTML(value='')))"
      ]
     },
     "metadata": {},
     "output_type": "display_data"
    },
    {
     "name": "stdout",
     "output_type": "stream",
     "text": [
      "\n"
     ]
    },
    {
     "data": {
      "application/vnd.jupyter.widget-view+json": {
       "model_id": "f6ac57e3ea604d38a1f6f87386eb6c68",
       "version_major": 2,
       "version_minor": 0
      },
      "text/plain": [
       "HBox(children=(HTML(value='Pandas Apply'), FloatProgress(value=0.0, max=49909.0), HTML(value='')))"
      ]
     },
     "metadata": {},
     "output_type": "display_data"
    },
    {
     "name": "stdout",
     "output_type": "stream",
     "text": [
      "\n"
     ]
    }
   ],
   "source": [
    "train_all['headline_ents_stem'] = train_all['headline_ents'].astype(str).swifter.apply(get_stem).apply(lambda x: x.split())\n",
    "train_all['body_ents_stem'] = train_all['body_ents_str'].astype(str).swifter.apply(get_stem).apply(lambda x: x.split())"
   ]
  },
  {
   "cell_type": "code",
   "execution_count": 726,
   "metadata": {},
   "outputs": [],
   "source": [
    "train_all['jaccard_similarity_nouns'] = train_all.apply(lambda x: jaccard_similarity(x.headline_ents_stem, \n",
    "                                                                                     x.body_ents_stem), axis=1)"
   ]
  },
  {
   "cell_type": "code",
   "execution_count": 727,
   "metadata": {},
   "outputs": [
    {
     "data": {
      "text/plain": [
       "     fun: -0.9565809773788295\n",
       " message: 'Solution found.'\n",
       "    nfev: 17\n",
       "  status: 0\n",
       " success: True\n",
       "       x: 0.03236003065007476"
      ]
     },
     "execution_count": 727,
     "metadata": {},
     "output_type": "execute_result"
    }
   ],
   "source": [
    "minimize_scalar(objective,bounds=[0,.2],method='Bounded')"
   ]
  },
  {
   "cell_type": "code",
   "execution_count": 733,
   "metadata": {},
   "outputs": [
    {
     "data": {
      "text/html": [
       "<div>\n",
       "<style scoped>\n",
       "    .dataframe tbody tr th:only-of-type {\n",
       "        vertical-align: middle;\n",
       "    }\n",
       "\n",
       "    .dataframe tbody tr th {\n",
       "        vertical-align: top;\n",
       "    }\n",
       "\n",
       "    .dataframe thead th {\n",
       "        text-align: right;\n",
       "    }\n",
       "</style>\n",
       "<table border=\"1\" class=\"dataframe\">\n",
       "  <thead>\n",
       "    <tr style=\"text-align: right;\">\n",
       "      <th></th>\n",
       "      <th>Unnamed: 0</th>\n",
       "      <th>Headline</th>\n",
       "      <th>headline_ents</th>\n",
       "      <th>articleBody</th>\n",
       "      <th>body_ents</th>\n",
       "      <th>target_stage1</th>\n",
       "      <th>target_stage2</th>\n",
       "      <th>jaccard_similarity_nouns</th>\n",
       "      <th>pred</th>\n",
       "      <th>headline_ents_t</th>\n",
       "      <th>body_ents_str</th>\n",
       "      <th>body_ents_nsw</th>\n",
       "      <th>headline_ents_nsw</th>\n",
       "      <th>len_headline</th>\n",
       "      <th>len_body</th>\n",
       "      <th>total_len</th>\n",
       "      <th>len_body_ents</th>\n",
       "      <th>headline_ents_stem</th>\n",
       "      <th>body_ents_stem</th>\n",
       "    </tr>\n",
       "  </thead>\n",
       "  <tbody>\n",
       "    <tr>\n",
       "      <th>41</th>\n",
       "      <td>41</td>\n",
       "      <td>ISIS fighters 'have contracted Ebola': World H...</td>\n",
       "      <td>isis fighter ebola world health organisation r...</td>\n",
       "      <td>(NEWSER) – Wonder how long a Quarter Pounder w...</td>\n",
       "      <td>['newser', 'quarter', 'pounder', 'cheese', 'au...</td>\n",
       "      <td>unrelated</td>\n",
       "      <td>NaN</td>\n",
       "      <td>0.032787</td>\n",
       "      <td>related</td>\n",
       "      <td>['isis', 'fighter', 'ebola', 'world', 'health'...</td>\n",
       "      <td>newser quarter pounder cheese australians mcdo...</td>\n",
       "      <td>['newser', 'quarter', 'pounder', 'cheese', 'au...</td>\n",
       "      <td>['isis', 'fighter', 'ebola', 'world', 'health'...</td>\n",
       "      <td>19</td>\n",
       "      <td>256</td>\n",
       "      <td>275</td>\n",
       "      <td>84</td>\n",
       "      <td>[isi, fighter, ebola, world, health, organis, ...</td>\n",
       "      <td>[newser, quarter, pounder, chees, australian, ...</td>\n",
       "    </tr>\n",
       "    <tr>\n",
       "      <th>86</th>\n",
       "      <td>86</td>\n",
       "      <td>HBO and Apple in Talks for $15/Month Apple TV ...</td>\n",
       "      <td>hbo apple talks month apple tv streaming servi...</td>\n",
       "      <td>(NEWSER) – Wonder how long a Quarter Pounder w...</td>\n",
       "      <td>['newser', 'quarter', 'pounder', 'cheese', 'au...</td>\n",
       "      <td>unrelated</td>\n",
       "      <td>NaN</td>\n",
       "      <td>0.033898</td>\n",
       "      <td>related</td>\n",
       "      <td>['hbo', 'apple', 'talks', 'month', 'apple', 't...</td>\n",
       "      <td>newser quarter pounder cheese australians mcdo...</td>\n",
       "      <td>['newser', 'quarter', 'pounder', 'cheese', 'au...</td>\n",
       "      <td>['hbo', 'apple', 'talks', 'month', 'apple', 't...</td>\n",
       "      <td>15</td>\n",
       "      <td>256</td>\n",
       "      <td>271</td>\n",
       "      <td>84</td>\n",
       "      <td>[hbo, appl, talk, month, appl, tv, stream, ser...</td>\n",
       "      <td>[newser, quarter, pounder, chees, australian, ...</td>\n",
       "    </tr>\n",
       "    <tr>\n",
       "      <th>139</th>\n",
       "      <td>139</td>\n",
       "      <td>6 Islamist militants killed in US attack in So...</td>\n",
       "      <td>militant attack somalia</td>\n",
       "      <td>At least 25 suspected Boko Haram insurgents we...</td>\n",
       "      <td>['suspect', 'boko', 'haram', 'insurgent', 'cla...</td>\n",
       "      <td>unrelated</td>\n",
       "      <td>NaN</td>\n",
       "      <td>0.037736</td>\n",
       "      <td>related</td>\n",
       "      <td>['militant', 'attack', 'somalia']</td>\n",
       "      <td>suspect boko haram insurgent clash soldier isl...</td>\n",
       "      <td>['suspect', 'boko', 'haram', 'insurgent', 'cla...</td>\n",
       "      <td>['militant', 'attack', 'somalia']</td>\n",
       "      <td>9</td>\n",
       "      <td>395</td>\n",
       "      <td>404</td>\n",
       "      <td>143</td>\n",
       "      <td>[milit, attack, somalia]</td>\n",
       "      <td>[suspect, boko, haram, insurg, clash, soldier,...</td>\n",
       "    </tr>\n",
       "    <tr>\n",
       "      <th>222</th>\n",
       "      <td>222</td>\n",
       "      <td>No, Saudi TV Didn't Blur Out Michelle Obama's ...</td>\n",
       "      <td>tv blur michelle obama face president met king...</td>\n",
       "      <td>There is so much fake stuff on the Internet in...</td>\n",
       "      <td>['stuff', 'internet', 'week', 'twitter', 'dhl'...</td>\n",
       "      <td>unrelated</td>\n",
       "      <td>NaN</td>\n",
       "      <td>0.034483</td>\n",
       "      <td>related</td>\n",
       "      <td>['tv', 'blur', 'michelle', 'obama', 'face', 'p...</td>\n",
       "      <td>stuff internet week twitter dhl ad video jimmy...</td>\n",
       "      <td>['stuff', 'internet', 'week', 'twitter', 'dhl'...</td>\n",
       "      <td>['tv', 'blur', 'michelle', 'obama', 'face', 'p...</td>\n",
       "      <td>17</td>\n",
       "      <td>1360</td>\n",
       "      <td>1377</td>\n",
       "      <td>440</td>\n",
       "      <td>[tv, blur, michel, obama, face, presid, met, k...</td>\n",
       "      <td>[stuff, internet, week, twitter, dhl, ad, vide...</td>\n",
       "    </tr>\n",
       "    <tr>\n",
       "      <th>361</th>\n",
       "      <td>361</td>\n",
       "      <td>Texas plumber's truck on front line of Syria war</td>\n",
       "      <td>texas plumber truck line syria war</td>\n",
       "      <td>A SOLDIER has been shot at Canada’s National W...</td>\n",
       "      <td>['soldier', 'canada', 'national', 'war', 'memo...</td>\n",
       "      <td>unrelated</td>\n",
       "      <td>NaN</td>\n",
       "      <td>0.034483</td>\n",
       "      <td>related</td>\n",
       "      <td>['texas', 'plumber', 'truck', 'line', 'syria',...</td>\n",
       "      <td>soldier canada national war memorial witness g...</td>\n",
       "      <td>['soldier', 'canada', 'national', 'war', 'memo...</td>\n",
       "      <td>['texas', 'plumber', 'truck', 'line', 'syria',...</td>\n",
       "      <td>10</td>\n",
       "      <td>67</td>\n",
       "      <td>77</td>\n",
       "      <td>29</td>\n",
       "      <td>[texa, plumber, truck, line, syria, war]</td>\n",
       "      <td>[soldier, canada, nation, war, memori, wit, gu...</td>\n",
       "    </tr>\n",
       "    <tr>\n",
       "      <th>...</th>\n",
       "      <td>...</td>\n",
       "      <td>...</td>\n",
       "      <td>...</td>\n",
       "      <td>...</td>\n",
       "      <td>...</td>\n",
       "      <td>...</td>\n",
       "      <td>...</td>\n",
       "      <td>...</td>\n",
       "      <td>...</td>\n",
       "      <td>...</td>\n",
       "      <td>...</td>\n",
       "      <td>...</td>\n",
       "      <td>...</td>\n",
       "      <td>...</td>\n",
       "      <td>...</td>\n",
       "      <td>...</td>\n",
       "      <td>...</td>\n",
       "      <td>...</td>\n",
       "      <td>...</td>\n",
       "    </tr>\n",
       "    <tr>\n",
       "      <th>49812</th>\n",
       "      <td>49812</td>\n",
       "      <td>Has a woman aborted her baby because it's a boy?</td>\n",
       "      <td>woman baby boy</td>\n",
       "      <td>Update: Since the publication of this article,...</td>\n",
       "      <td>['update', 'publication', 'article', 'people',...</td>\n",
       "      <td>related</td>\n",
       "      <td>discuss</td>\n",
       "      <td>0.017857</td>\n",
       "      <td>unrelated</td>\n",
       "      <td>['woman', 'baby', 'boy']</td>\n",
       "      <td>update publication article people hoax blog ca...</td>\n",
       "      <td>['update', 'publication', 'article', 'people',...</td>\n",
       "      <td>['woman', 'baby', 'boy']</td>\n",
       "      <td>11</td>\n",
       "      <td>650</td>\n",
       "      <td>661</td>\n",
       "      <td>152</td>\n",
       "      <td>[woman, babi, boy]</td>\n",
       "      <td>[updat, public, articl, peopl, hoax, blog, cau...</td>\n",
       "    </tr>\n",
       "    <tr>\n",
       "      <th>49822</th>\n",
       "      <td>49822</td>\n",
       "      <td>ISLAMIC STATE BEHEADS MISSING AMERICAN JOURNAL...</td>\n",
       "      <td>state beheads journalist james wright foley</td>\n",
       "      <td>Intelligence agencies hunting for identity of ...</td>\n",
       "      <td>['intelligence', 'agency', 'hunt', 'identity',...</td>\n",
       "      <td>unrelated</td>\n",
       "      <td>NaN</td>\n",
       "      <td>0.052632</td>\n",
       "      <td>related</td>\n",
       "      <td>['state', 'beheads', 'journalist', 'james', 'w...</td>\n",
       "      <td>intelligence agency hunt identity murder repor...</td>\n",
       "      <td>['intelligence', 'agency', 'hunt', 'identity',...</td>\n",
       "      <td>['state', 'beheads', 'journalist', 'james', 'w...</td>\n",
       "      <td>9</td>\n",
       "      <td>907</td>\n",
       "      <td>916</td>\n",
       "      <td>350</td>\n",
       "      <td>[state, behead, journalist, jame, wright, foley]</td>\n",
       "      <td>[intellig, agenc, hunt, ident, murder, report,...</td>\n",
       "    </tr>\n",
       "    <tr>\n",
       "      <th>49825</th>\n",
       "      <td>49825</td>\n",
       "      <td>British rapper a suspect in ISIS beheading</td>\n",
       "      <td>rapper suspect isis</td>\n",
       "      <td>Intelligence agencies hunting for identity of ...</td>\n",
       "      <td>['intelligence', 'agency', 'hunt', 'identity',...</td>\n",
       "      <td>related</td>\n",
       "      <td>discuss</td>\n",
       "      <td>0.017857</td>\n",
       "      <td>unrelated</td>\n",
       "      <td>['rapper', 'suspect', 'isis']</td>\n",
       "      <td>intelligence agency hunt identity murder repor...</td>\n",
       "      <td>['intelligence', 'agency', 'hunt', 'identity',...</td>\n",
       "      <td>['rapper', 'suspect', 'isis']</td>\n",
       "      <td>7</td>\n",
       "      <td>907</td>\n",
       "      <td>914</td>\n",
       "      <td>350</td>\n",
       "      <td>[rapper, suspect, isi]</td>\n",
       "      <td>[intellig, agenc, hunt, ident, murder, report,...</td>\n",
       "    </tr>\n",
       "    <tr>\n",
       "      <th>49845</th>\n",
       "      <td>49845</td>\n",
       "      <td>Gateway Pundit</td>\n",
       "      <td>gateway pundit</td>\n",
       "      <td>Intelligence agencies hunting for identity of ...</td>\n",
       "      <td>['intelligence', 'agency', 'hunt', 'identity',...</td>\n",
       "      <td>related</td>\n",
       "      <td>discuss</td>\n",
       "      <td>0.000000</td>\n",
       "      <td>unrelated</td>\n",
       "      <td>['gateway', 'pundit']</td>\n",
       "      <td>intelligence agency hunt identity murder repor...</td>\n",
       "      <td>['intelligence', 'agency', 'hunt', 'identity',...</td>\n",
       "      <td>['gateway', 'pundit']</td>\n",
       "      <td>2</td>\n",
       "      <td>907</td>\n",
       "      <td>909</td>\n",
       "      <td>350</td>\n",
       "      <td>[gateway, pundit]</td>\n",
       "      <td>[intellig, agenc, hunt, ident, murder, report,...</td>\n",
       "    </tr>\n",
       "    <tr>\n",
       "      <th>49858</th>\n",
       "      <td>49858</td>\n",
       "      <td>Microsoft turns to robotic security guards to ...</td>\n",
       "      <td>microsoft security guard trouble</td>\n",
       "      <td>While Daleks \"know no fear\" and \"must not fear...</td>\n",
       "      <td>['daleks', 'fear', 'calculate', 'robot', 'dr.'...</td>\n",
       "      <td>related</td>\n",
       "      <td>agree</td>\n",
       "      <td>0.016949</td>\n",
       "      <td>unrelated</td>\n",
       "      <td>['microsoft', 'security', 'guard', 'trouble']</td>\n",
       "      <td>daleks fear calculate robot dr. series world m...</td>\n",
       "      <td>['daleks', 'fear', 'calculate', 'robot', 'dr.'...</td>\n",
       "      <td>['microsoft', 'security', 'guard', 'trouble']</td>\n",
       "      <td>10</td>\n",
       "      <td>439</td>\n",
       "      <td>449</td>\n",
       "      <td>154</td>\n",
       "      <td>[microsoft, secur, guard, troubl]</td>\n",
       "      <td>[dalek, fear, calcul, robot, dr., seri, world,...</td>\n",
       "    </tr>\n",
       "  </tbody>\n",
       "</table>\n",
       "<p>2167 rows × 19 columns</p>\n",
       "</div>"
      ],
      "text/plain": [
       "       Unnamed: 0                                           Headline  \\\n",
       "41             41  ISIS fighters 'have contracted Ebola': World H...   \n",
       "86             86  HBO and Apple in Talks for $15/Month Apple TV ...   \n",
       "139           139  6 Islamist militants killed in US attack in So...   \n",
       "222           222  No, Saudi TV Didn't Blur Out Michelle Obama's ...   \n",
       "361           361   Texas plumber's truck on front line of Syria war   \n",
       "...           ...                                                ...   \n",
       "49812       49812   Has a woman aborted her baby because it's a boy?   \n",
       "49822       49822  ISLAMIC STATE BEHEADS MISSING AMERICAN JOURNAL...   \n",
       "49825       49825         British rapper a suspect in ISIS beheading   \n",
       "49845       49845                                     Gateway Pundit   \n",
       "49858       49858  Microsoft turns to robotic security guards to ...   \n",
       "\n",
       "                                           headline_ents  \\\n",
       "41     isis fighter ebola world health organisation r...   \n",
       "86     hbo apple talks month apple tv streaming servi...   \n",
       "139                              militant attack somalia   \n",
       "222    tv blur michelle obama face president met king...   \n",
       "361                   texas plumber truck line syria war   \n",
       "...                                                  ...   \n",
       "49812                                     woman baby boy   \n",
       "49822        state beheads journalist james wright foley   \n",
       "49825                                rapper suspect isis   \n",
       "49845                                     gateway pundit   \n",
       "49858                   microsoft security guard trouble   \n",
       "\n",
       "                                             articleBody  \\\n",
       "41     (NEWSER) – Wonder how long a Quarter Pounder w...   \n",
       "86     (NEWSER) – Wonder how long a Quarter Pounder w...   \n",
       "139    At least 25 suspected Boko Haram insurgents we...   \n",
       "222    There is so much fake stuff on the Internet in...   \n",
       "361    A SOLDIER has been shot at Canada’s National W...   \n",
       "...                                                  ...   \n",
       "49812  Update: Since the publication of this article,...   \n",
       "49822  Intelligence agencies hunting for identity of ...   \n",
       "49825  Intelligence agencies hunting for identity of ...   \n",
       "49845  Intelligence agencies hunting for identity of ...   \n",
       "49858  While Daleks \"know no fear\" and \"must not fear...   \n",
       "\n",
       "                                               body_ents target_stage1  \\\n",
       "41     ['newser', 'quarter', 'pounder', 'cheese', 'au...     unrelated   \n",
       "86     ['newser', 'quarter', 'pounder', 'cheese', 'au...     unrelated   \n",
       "139    ['suspect', 'boko', 'haram', 'insurgent', 'cla...     unrelated   \n",
       "222    ['stuff', 'internet', 'week', 'twitter', 'dhl'...     unrelated   \n",
       "361    ['soldier', 'canada', 'national', 'war', 'memo...     unrelated   \n",
       "...                                                  ...           ...   \n",
       "49812  ['update', 'publication', 'article', 'people',...       related   \n",
       "49822  ['intelligence', 'agency', 'hunt', 'identity',...     unrelated   \n",
       "49825  ['intelligence', 'agency', 'hunt', 'identity',...       related   \n",
       "49845  ['intelligence', 'agency', 'hunt', 'identity',...       related   \n",
       "49858  ['daleks', 'fear', 'calculate', 'robot', 'dr.'...       related   \n",
       "\n",
       "      target_stage2  jaccard_similarity_nouns       pred  \\\n",
       "41              NaN                  0.032787    related   \n",
       "86              NaN                  0.033898    related   \n",
       "139             NaN                  0.037736    related   \n",
       "222             NaN                  0.034483    related   \n",
       "361             NaN                  0.034483    related   \n",
       "...             ...                       ...        ...   \n",
       "49812       discuss                  0.017857  unrelated   \n",
       "49822           NaN                  0.052632    related   \n",
       "49825       discuss                  0.017857  unrelated   \n",
       "49845       discuss                  0.000000  unrelated   \n",
       "49858         agree                  0.016949  unrelated   \n",
       "\n",
       "                                         headline_ents_t  \\\n",
       "41     ['isis', 'fighter', 'ebola', 'world', 'health'...   \n",
       "86     ['hbo', 'apple', 'talks', 'month', 'apple', 't...   \n",
       "139                    ['militant', 'attack', 'somalia']   \n",
       "222    ['tv', 'blur', 'michelle', 'obama', 'face', 'p...   \n",
       "361    ['texas', 'plumber', 'truck', 'line', 'syria',...   \n",
       "...                                                  ...   \n",
       "49812                           ['woman', 'baby', 'boy']   \n",
       "49822  ['state', 'beheads', 'journalist', 'james', 'w...   \n",
       "49825                      ['rapper', 'suspect', 'isis']   \n",
       "49845                              ['gateway', 'pundit']   \n",
       "49858      ['microsoft', 'security', 'guard', 'trouble']   \n",
       "\n",
       "                                           body_ents_str  \\\n",
       "41     newser quarter pounder cheese australians mcdo...   \n",
       "86     newser quarter pounder cheese australians mcdo...   \n",
       "139    suspect boko haram insurgent clash soldier isl...   \n",
       "222    stuff internet week twitter dhl ad video jimmy...   \n",
       "361    soldier canada national war memorial witness g...   \n",
       "...                                                  ...   \n",
       "49812  update publication article people hoax blog ca...   \n",
       "49822  intelligence agency hunt identity murder repor...   \n",
       "49825  intelligence agency hunt identity murder repor...   \n",
       "49845  intelligence agency hunt identity murder repor...   \n",
       "49858  daleks fear calculate robot dr. series world m...   \n",
       "\n",
       "                                           body_ents_nsw  \\\n",
       "41     ['newser', 'quarter', 'pounder', 'cheese', 'au...   \n",
       "86     ['newser', 'quarter', 'pounder', 'cheese', 'au...   \n",
       "139    ['suspect', 'boko', 'haram', 'insurgent', 'cla...   \n",
       "222    ['stuff', 'internet', 'week', 'twitter', 'dhl'...   \n",
       "361    ['soldier', 'canada', 'national', 'war', 'memo...   \n",
       "...                                                  ...   \n",
       "49812  ['update', 'publication', 'article', 'people',...   \n",
       "49822  ['intelligence', 'agency', 'hunt', 'identity',...   \n",
       "49825  ['intelligence', 'agency', 'hunt', 'identity',...   \n",
       "49845  ['intelligence', 'agency', 'hunt', 'identity',...   \n",
       "49858  ['daleks', 'fear', 'calculate', 'robot', 'dr.'...   \n",
       "\n",
       "                                       headline_ents_nsw  len_headline  \\\n",
       "41     ['isis', 'fighter', 'ebola', 'world', 'health'...            19   \n",
       "86     ['hbo', 'apple', 'talks', 'month', 'apple', 't...            15   \n",
       "139                    ['militant', 'attack', 'somalia']             9   \n",
       "222    ['tv', 'blur', 'michelle', 'obama', 'face', 'p...            17   \n",
       "361    ['texas', 'plumber', 'truck', 'line', 'syria',...            10   \n",
       "...                                                  ...           ...   \n",
       "49812                           ['woman', 'baby', 'boy']            11   \n",
       "49822  ['state', 'beheads', 'journalist', 'james', 'w...             9   \n",
       "49825                      ['rapper', 'suspect', 'isis']             7   \n",
       "49845                              ['gateway', 'pundit']             2   \n",
       "49858      ['microsoft', 'security', 'guard', 'trouble']            10   \n",
       "\n",
       "       len_body  total_len  len_body_ents  \\\n",
       "41          256        275             84   \n",
       "86          256        271             84   \n",
       "139         395        404            143   \n",
       "222        1360       1377            440   \n",
       "361          67         77             29   \n",
       "...         ...        ...            ...   \n",
       "49812       650        661            152   \n",
       "49822       907        916            350   \n",
       "49825       907        914            350   \n",
       "49845       907        909            350   \n",
       "49858       439        449            154   \n",
       "\n",
       "                                      headline_ents_stem  \\\n",
       "41     [isi, fighter, ebola, world, health, organis, ...   \n",
       "86     [hbo, appl, talk, month, appl, tv, stream, ser...   \n",
       "139                             [milit, attack, somalia]   \n",
       "222    [tv, blur, michel, obama, face, presid, met, k...   \n",
       "361             [texa, plumber, truck, line, syria, war]   \n",
       "...                                                  ...   \n",
       "49812                                 [woman, babi, boy]   \n",
       "49822   [state, behead, journalist, jame, wright, foley]   \n",
       "49825                             [rapper, suspect, isi]   \n",
       "49845                                  [gateway, pundit]   \n",
       "49858                  [microsoft, secur, guard, troubl]   \n",
       "\n",
       "                                          body_ents_stem  \n",
       "41     [newser, quarter, pounder, chees, australian, ...  \n",
       "86     [newser, quarter, pounder, chees, australian, ...  \n",
       "139    [suspect, boko, haram, insurg, clash, soldier,...  \n",
       "222    [stuff, internet, week, twitter, dhl, ad, vide...  \n",
       "361    [soldier, canada, nation, war, memori, wit, gu...  \n",
       "...                                                  ...  \n",
       "49812  [updat, public, articl, peopl, hoax, blog, cau...  \n",
       "49822  [intellig, agenc, hunt, ident, murder, report,...  \n",
       "49825  [intellig, agenc, hunt, ident, murder, report,...  \n",
       "49845  [intellig, agenc, hunt, ident, murder, report,...  \n",
       "49858  [dalek, fear, calcul, robot, dr., seri, world,...  \n",
       "\n",
       "[2167 rows x 19 columns]"
      ]
     },
     "execution_count": 733,
     "metadata": {},
     "output_type": "execute_result"
    }
   ],
   "source": [
    "wrong"
   ]
  },
  {
   "cell_type": "code",
   "execution_count": 728,
   "metadata": {},
   "outputs": [
    {
     "name": "stdout",
     "output_type": "stream",
     "text": [
      "              precision    recall  f1-score   support\n",
      "\n",
      "     related       0.90      0.94      0.92     13401\n",
      "   unrelated       0.98      0.96      0.97     36508\n",
      "\n",
      "    accuracy                           0.96     49909\n",
      "   macro avg       0.94      0.95      0.95     49909\n",
      "weighted avg       0.96      0.96      0.96     49909\n",
      "\n"
     ]
    },
    {
     "data": {
      "image/png": "[encoded data removed]",
      "text/plain": [
       "<Figure size 432x288 with 2 Axes>"
      ]
     },
     "metadata": {
      "needs_background": "light"
     },
     "output_type": "display_data"
    }
   ],
   "source": [
    "train_all['pred'] ='unrelated'\n",
    "train_all.loc[train_all.jaccard_similarity_nouns > 0.03236003065007476, 'pred'] = 'related'\n",
    "\n",
    "\n",
    "cf_matrix = confusion_matrix(train_all.target_stage1, train_all.pred)\n",
    "classification_interpretation(train_all.pred, train_all.target_stage1)\n",
    "\n",
    "from sklearn.metrics import classification_report\n",
    "target_names = ['related', 'unrelated']\n",
    "print(classification_report(train_all.target_stage1, train_all.pred, target_names=target_names))"
   ]
  },
  {
   "cell_type": "code",
   "execution_count": 732,
   "metadata": {},
   "outputs": [
    {
     "data": {
      "image/png": "[encoded data removed]",
      "text/plain": [
       "<Figure size 432x288 with 1 Axes>"
      ]
     },
     "metadata": {
      "needs_background": "light"
     },
     "output_type": "display_data"
    }
   ],
   "source": [
    "import seaborn as sns \n",
    "import matplotlib.pyplot as plt\n",
    "sns.histplot(wrong, x=\"jaccard_similarity_nouns\", hue=\"target_stage1\", common_norm=True)\n",
    "plt.vlines(0.03, ymin =0,ymax=700,color='red')\n",
    "plt.xlim(0, .05)\n",
    "plt.show() "
   ]
  },
  {
   "cell_type": "code",
   "execution_count": 735,
   "metadata": {},
   "outputs": [
    {
     "data": {
      "text/plain": [
       "0.9565809773788295"
      ]
     },
     "execution_count": 735,
     "metadata": {},
     "output_type": "execute_result"
    }
   ],
   "source": [
    "accuracy_score(train_all.pred, train_all.target_stage1)"
   ]
  },
  {
   "cell_type": "markdown",
   "metadata": {},
   "source": [
    "### Output"
   ]
  },
  {
   "cell_type": "code",
   "execution_count": 628,
   "metadata": {},
   "outputs": [],
   "source": [
    "train_all['body_ents_str'] = train_all['body_ents'].apply(lambda x: \" \".join([y for y in x]))"
   ]
  },
  {
   "cell_type": "code",
   "execution_count": 629,
   "metadata": {},
   "outputs": [],
   "source": [
    "train_all.to_csv(\"stg1MSCI598_train.csv\")"
   ]
  },
  {
   "cell_type": "markdown",
   "metadata": {},
   "source": [
    "#### Production:"
   ]
  },
  {
   "cell_type": "code",
   "execution_count": null,
   "metadata": {},
   "outputs": [],
   "source": [
    "import spacy\n",
    "import en_core_web_lg\n",
    "nlp = en_core_web_lg.load()\n",
    "\n",
    "accepted = ['PERSON','NORP','FAC','ORG','GPE','LOC','PRODUCT','EVENT',\n",
    "           'WORK_OF_ART','LAW','LANGUAGE','DATE','MONEY', 'NOUN','PROPN']\n",
    "\n",
    "def noun_tag(text): \n",
    "    text = \" \".join([x.lemma_ for x in [y \n",
    "                                          for y\n",
    "                                          in nlp(text) \n",
    "                                          if not y.is_stop and y.pos_ != 'PUNCT' ]])\n",
    "    doc = nlp(text)\n",
    "    return [X.text.lower() for X in doc if X.ent_type_ in accepted or X.pos_ in accepted] \n",
    "\n",
    "def jaccard_similarity(query, document):\n",
    "    intersection = set(query).intersection(set(document))\n",
    "    union = set(query).union(set(document))\n",
    "    if len(union) == 0: \n",
    "        return len(intersection)/(len(union) + 1)\n",
    "    else: \n",
    "        return len(intersection)/(len(union))\n",
    "    \n",
    "def inference(headline, body): \n",
    "    # clean \n",
    "    \n",
    "    # tag \n",
    "    \n",
    "    # jaccard \n",
    "    \n",
    "    # predict \n",
    "    lable = None \n",
    "    return label"
   ]
  }
 ],
 "metadata": {
  "kernelspec": {
   "display_name": "Python 3",
   "language": "python",
   "name": "python3"
  },
  "language_info": {
   "codemirror_mode": {
    "name": "ipython",
    "version": 3
   },
   "file_extension": ".py",
   "mimetype": "text/x-python",
   "name": "python",
   "nbconvert_exporter": "python",
   "pygments_lexer": "ipython3",
   "version": "3.7.9"
  }
 },
 "nbformat": 4,
 "nbformat_minor": 4
}
